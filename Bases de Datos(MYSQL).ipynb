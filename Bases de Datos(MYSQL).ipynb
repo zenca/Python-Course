{
 "cells": [
  {
   "cell_type": "markdown",
   "id": "b97f9365",
   "metadata": {},
   "source": [
    "# Bases de Datos (MySQL)"
   ]
  },
  {
   "cell_type": "code",
   "execution_count": 1,
   "id": "e1f66c46",
   "metadata": {},
   "outputs": [
    {
     "name": "stdout",
     "output_type": "stream",
     "text": [
      "Requirement already satisfied: mysql-connector in c:\\users\\nelson\\anaconda3\\lib\\site-packages (2.2.9)\n",
      "Note: you may need to restart the kernel to use updated packages.\n"
     ]
    }
   ],
   "source": [
    "pip install mysql-connector"
   ]
  },
  {
   "cell_type": "code",
   "execution_count": 2,
   "id": "27046474",
   "metadata": {},
   "outputs": [],
   "source": [
    "import mysql.connector"
   ]
  },
  {
   "cell_type": "code",
   "execution_count": 3,
   "id": "067f6a7c",
   "metadata": {},
   "outputs": [
    {
     "name": "stdout",
     "output_type": "stream",
     "text": [
      "('base1',)\n",
      "('information_schema',)\n",
      "('mysql',)\n",
      "('nuevabase',)\n",
      "('performance_schema',)\n",
      "('phpmyadmin',)\n",
      "('test',)\n"
     ]
    }
   ],
   "source": [
    "conexion1=mysql.connector.connect(host=\"localhost\", user=\"root\", passwd=\"\")\n",
    "cur1=conexion1.cursor()\n",
    "cur1.execute(\"SHOW databases\")\n",
    "for base in cur1:\n",
    "    print(base)\n",
    "conexion1.close()  "
   ]
  },
  {
   "cell_type": "code",
   "execution_count": 5,
   "id": "0c913dcc",
   "metadata": {},
   "outputs": [],
   "source": [
    "conexion1=mysql.connector.connect(host=\"localhost\", user=\"root\", passwd=\"\")\n",
    "cur1=conexion1.cursor()\n",
    "cur1.execute(\"DROP DATABASE base1\")\n",
    "conexion1.close()"
   ]
  },
  {
   "cell_type": "code",
   "execution_count": null,
   "id": "7749edc8",
   "metadata": {},
   "outputs": [],
   "source": []
  },
  {
   "cell_type": "code",
   "execution_count": 6,
   "id": "63eca96c",
   "metadata": {},
   "outputs": [
    {
     "name": "stdout",
     "output_type": "stream",
     "text": [
      "[('articulos',)]\n"
     ]
    }
   ],
   "source": [
    "conexion1=mysql.connector.connect(host=\"localhost\", user=\"root\", passwd=\"\",database=\"nuevabase\")\n",
    "cur1=conexion1.cursor()\n",
    "cur1.execute(\"SHOW TABLES\")\n",
    "print(cur1.fetchall())"
   ]
  },
  {
   "cell_type": "code",
   "execution_count": 7,
   "id": "79cdf1e5",
   "metadata": {},
   "outputs": [
    {
     "name": "stdout",
     "output_type": "stream",
     "text": [
      "[(1, 'naranjas', 23.5), (2, 'peras', 34.0), (3, 'bananas', 25.0), (4, 'pan', 30.0)]\n"
     ]
    }
   ],
   "source": [
    "conexion1=mysql.connector.connect(host=\"localhost\", user=\"root\", passwd=\"\",database=\"nuevabase\")\n",
    "cur1=conexion1.cursor()\n",
    "cur1.execute(\"SELECT * FROM articulos\")\n",
    "print(cur1.fetchall())\n",
    "conexion1.close()"
   ]
  },
  {
   "cell_type": "code",
   "execution_count": null,
   "id": "4f8c32ec",
   "metadata": {},
   "outputs": [],
   "source": [
    "conexion1=mysql.connector.connect(host=\"localhost\", user=\"root\", passwd=\"\",database=\"nuevabase\")\n",
    "cur1=conexion1.cursor()\n",
    "cur1.execute(\"SELECT * FROM articulos\")\n",
    "print(cur1.fetchall())\n",
    "conexion1.close()"
   ]
  },
  {
   "cell_type": "code",
   "execution_count": 8,
   "id": "de537e91",
   "metadata": {},
   "outputs": [],
   "source": [
    "conexion1=mysql.connector.connect(host=\"localhost\", user=\"root\", passwd=\"\",database=\"nuevabase\")\n",
    "cur1=conexion1.cursor()\n",
    "cur1.execute(\"INSERT INTO articulos (descripcion,precio) VALUES ('pan',30)\")\n",
    "conexion1.commit()\n",
    "conexion1.close()"
   ]
  },
  {
   "cell_type": "code",
   "execution_count": 9,
   "id": "16094317",
   "metadata": {},
   "outputs": [
    {
     "name": "stdout",
     "output_type": "stream",
     "text": [
      "[(1, 'naranjas', 23.5), (2, 'peras', 34.0), (3, 'bananas', 25.0), (4, 'pan', 30.0), (5, 'pan', 30.0)]\n"
     ]
    }
   ],
   "source": [
    "conexion1=mysql.connector.connect(host=\"localhost\", user=\"root\", passwd=\"\",database=\"nuevabase\")\n",
    "cur1=conexion1.cursor()\n",
    "cur1.execute(\"SELECT * FROM articulos\")\n",
    "print(cur1.fetchall())\n",
    "conexion1.close()"
   ]
  },
  {
   "cell_type": "code",
   "execution_count": 1,
   "id": "05ffe974",
   "metadata": {},
   "outputs": [
    {
     "ename": "NameError",
     "evalue": "name 'mysql' is not defined",
     "output_type": "error",
     "traceback": [
      "\u001b[1;31m---------------------------------------------------------------------------\u001b[0m",
      "\u001b[1;31mNameError\u001b[0m                                 Traceback (most recent call last)",
      "\u001b[1;32m<ipython-input-1-3a3bf5c3eafc>\u001b[0m in \u001b[0;36m<module>\u001b[1;34m\u001b[0m\n\u001b[1;32m----> 1\u001b[1;33m \u001b[0mconexion1\u001b[0m\u001b[1;33m=\u001b[0m\u001b[0mmysql\u001b[0m\u001b[1;33m.\u001b[0m\u001b[0mconnector\u001b[0m\u001b[1;33m.\u001b[0m\u001b[0mconnect\u001b[0m\u001b[1;33m(\u001b[0m\u001b[0mhost\u001b[0m\u001b[1;33m=\u001b[0m\u001b[1;34m\"localhost\"\u001b[0m\u001b[1;33m,\u001b[0m \u001b[0muser\u001b[0m\u001b[1;33m=\u001b[0m\u001b[1;34m\"root\"\u001b[0m\u001b[1;33m,\u001b[0m \u001b[0mpasswd\u001b[0m\u001b[1;33m=\u001b[0m\u001b[1;34m\"\"\u001b[0m\u001b[1;33m,\u001b[0m\u001b[0mdatabase\u001b[0m\u001b[1;33m=\u001b[0m\u001b[1;34m\"nuevabase\"\u001b[0m\u001b[1;33m)\u001b[0m\u001b[1;33m\u001b[0m\u001b[1;33m\u001b[0m\u001b[0m\n\u001b[0m\u001b[0;32m      2\u001b[0m \u001b[1;32mtry\u001b[0m\u001b[1;33m:\u001b[0m\u001b[1;33m\u001b[0m\u001b[1;33m\u001b[0m\u001b[0m\n\u001b[0;32m      3\u001b[0m     \u001b[0mcursor1\u001b[0m\u001b[1;33m=\u001b[0m\u001b[0mconexion1\u001b[0m\u001b[1;33m.\u001b[0m\u001b[0mcursor\u001b[0m\u001b[1;33m(\u001b[0m\u001b[1;33m)\u001b[0m\u001b[1;33m\u001b[0m\u001b[1;33m\u001b[0m\u001b[0m\n\u001b[0;32m      4\u001b[0m     cursor1.execute(\"\"\"CREATE TABLE articulos2(\n\u001b[0;32m      5\u001b[0m \u001b[0mId\u001b[0m \u001b[0mINT\u001b[0m \u001b[0mPRIMARY\u001b[0m \u001b[0mKEY\u001b[0m \u001b[0mAUTOINCREMENT\u001b[0m\u001b[1;33m,\u001b[0m\u001b[1;33m\u001b[0m\u001b[1;33m\u001b[0m\u001b[0m\n",
      "\u001b[1;31mNameError\u001b[0m: name 'mysql' is not defined"
     ]
    }
   ],
   "source": [
    "conexion1=mysql.connector.connect(host=\"localhost\", user=\"root\", passwd=\"\",database=\"nuevabase\")\n",
    "try:\n",
    "    cursor1=conexion1.cursor()\n",
    "    cursor1.execute(\"\"\"CREATE TABLE articulos2(\n",
    "Id INT PRIMARY KEY AUTOINCREMENT,\n",
    "Nombre VARCHAR,\n",
    "Cantidad INT,\n",
    ");\"\"\")\n",
    "except mysql.connector.OperationalError:\n",
    "    print(\"Error al crear Base de datos\")\n",
    "conexion1.close() "
   ]
  },
  {
   "cell_type": "code",
   "execution_count": null,
   "id": "f7384800",
   "metadata": {},
   "outputs": [],
   "source": []
  }
 ],
 "metadata": {
  "kernelspec": {
   "display_name": "Python 3",
   "language": "python",
   "name": "python3"
  },
  "language_info": {
   "codemirror_mode": {
    "name": "ipython",
    "version": 3
   },
   "file_extension": ".py",
   "mimetype": "text/x-python",
   "name": "python",
   "nbconvert_exporter": "python",
   "pygments_lexer": "ipython3",
   "version": "3.7.10"
  }
 },
 "nbformat": 4,
 "nbformat_minor": 5
}
