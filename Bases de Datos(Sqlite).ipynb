{
 "cells": [
  {
   "cell_type": "markdown",
   "id": "c6b9bb14",
   "metadata": {},
   "source": [
    "# Bases de Datos (SQLITE)"
   ]
  },
  {
   "cell_type": "code",
   "execution_count": 2,
   "id": "fb67254f",
   "metadata": {},
   "outputs": [],
   "source": [
    "import sqlite3"
   ]
  },
  {
   "cell_type": "code",
   "execution_count": 4,
   "id": "df53b4c3",
   "metadata": {},
   "outputs": [],
   "source": [
    "conexion1=sqlite3.connect(\"bas2.db\")\n",
    "try:\n",
    "    cursor1=conexion1.cursor()\n",
    "    cursor1.execute(\"\"\"CREATE TABLE articulos1(\n",
    "Id INTEGER PRIMARY KEY AUTOINCREMENT,\n",
    "Nombre TEXT,\n",
    "Valor INTEGER,\n",
    "Descripcion TEXT);\"\"\")\n",
    "except sqlite3.OperationalError:\n",
    "    print(\"Error al crear Base de datos\")\n",
    "conexion1.close() "
   ]
  },
  {
   "cell_type": "code",
   "execution_count": 14,
   "id": "d29a6b26",
   "metadata": {},
   "outputs": [],
   "source": [
    "conexion1=sqlite3.connect(\"bas2.db\")\n",
    "cursor1=conexion1.cursor()\n",
    "cursor1.execute(\"SELECT * FROM articulos1;\")\n",
    "\"\"\"for fila in cursor1:\n",
    "     print(fila)\"\"\"\n",
    "conexion1.close()    "
   ]
  },
  {
   "cell_type": "code",
   "execution_count": 7,
   "id": "7120b8f5",
   "metadata": {},
   "outputs": [],
   "source": [
    "conexion1=sqlite3.connect(\"bas2.db\")\n",
    "cursor1=conexion1.cursor()\n",
    "cursor1.execute(\"INSERT INTO articulos1 (nombre,valor) VALUES ('naranjas', 25);\")\n",
    "conexion1.commit()\n",
    "conexion1.close()   "
   ]
  },
  {
   "cell_type": "code",
   "execution_count": 13,
   "id": "fb826999",
   "metadata": {},
   "outputs": [],
   "source": [
    "conexion1=sqlite3.connect(\"bas2.db\")\n",
    "cursor1=conexion1.cursor()\n",
    "cursor1.execute(\"SELECT * FROM articulos1;\")\n",
    "res=cursor1.fetchall()\n",
    "#print(res)\n",
    "conexion1.close()    "
   ]
  },
  {
   "cell_type": "code",
   "execution_count": 10,
   "id": "806bb182",
   "metadata": {},
   "outputs": [],
   "source": [
    "conexion1=sqlite3.connect(\"bas2.db\")\n",
    "cursor1=conexion1.cursor()\n",
    "cursor1.execute(\"INSERT INTO articulos1 (nombre,valor,descripcion) VALUES ('peras', 30,'bien');\")\n",
    "conexion1.commit()\n",
    "conexion1.close()    "
   ]
  },
  {
   "cell_type": "code",
   "execution_count": 12,
   "id": "04b21ac6",
   "metadata": {},
   "outputs": [],
   "source": [
    "conexion1=sqlite3.connect(\"bas2.db\")\n",
    "cursor1=conexion1.cursor()\n",
    "cursor1.execute(\"SELECT * FROM articulos1;\")\n",
    "res=cursor1.fetchall()\n",
    "#print(res)\n",
    "conexion1.close()  "
   ]
  },
  {
   "cell_type": "code",
   "execution_count": 12,
   "id": "0c946de5",
   "metadata": {},
   "outputs": [],
   "source": [
    "conexion1=sqlite3.connect(\"bas2.db\")\n",
    "cursor1=conexion1.cursor()\n",
    "cursor1.execute(\"DELETE FROM articulos1 WHERE Id=2;\")\n",
    "conexion1.commit()\n",
    "conexion1.close()"
   ]
  },
  {
   "cell_type": "code",
   "execution_count": 11,
   "id": "ba3aad05",
   "metadata": {},
   "outputs": [],
   "source": [
    "conexion1=sqlite3.connect(\"bas2.db\")\n",
    "cursor1=conexion1.cursor()\n",
    "cursor1.execute(\"SELECT * FROM articulos1;\")\n",
    "res=cursor1.fetchall()\n",
    "#print(res)\n",
    "conexion1.close()  "
   ]
  },
  {
   "cell_type": "code",
   "execution_count": 3,
   "id": "55b3eced",
   "metadata": {},
   "outputs": [],
   "source": [
    "conexion1=sqlite3.connect(\"bas1.db\")\n",
    "cursor1=conexion1.cursor()\n",
    "cursor1.execute(\"SELECT * FROM articulos1;\")\n",
    "\"\"\"\"for fila in cursor1:\n",
    "     print('nombre: ',fila[0])\n",
    "     print('valor: ',fila[1])   \n",
    "     print('descripcion: ',fila[2],\"\\n\") \"\"\"\n",
    "conexion1.close()  "
   ]
  },
  {
   "cell_type": "code",
   "execution_count": null,
   "id": "77e7fccc",
   "metadata": {},
   "outputs": [],
   "source": []
  },
  {
   "cell_type": "code",
   "execution_count": 4,
   "id": "288ac83a",
   "metadata": {},
   "outputs": [],
   "source": [
    "conexion2=sqlite3.connect(\"bas1.db\")\n",
    "cursor2=conexion2.cursor()\n",
    "cursor2.execute(\"SELECT * FROM articulos1;\")\n",
    "\"\"\"for fila in cursor2:\n",
    "     print(fila)\"\"\"\n",
    "conexion2.close()    "
   ]
  },
  {
   "cell_type": "code",
   "execution_count": 9,
   "id": "e85d9283",
   "metadata": {},
   "outputs": [],
   "source": [
    "conexion1=sqlite3.connect(\"bas1.db\")\n",
    "cursor1=conexion1.cursor()\n",
    "cursor1.execute(\"DELETE FROM articulos1 WHERE Id=4;\")\n",
    "conexion1.commit()\n",
    "conexion1.close()"
   ]
  },
  {
   "cell_type": "code",
   "execution_count": 5,
   "id": "196ed053",
   "metadata": {},
   "outputs": [],
   "source": [
    "conexion2=sqlite3.connect(\"bas1.db\")\n",
    "cursor2=conexion2.cursor()\n",
    "cursor2.execute(\"SELECT * FROM articulos1;\")\n",
    "que1=cursor2.fetchone()\n",
    "\"\"\"for fila in que1:\n",
    "     print(fila)\"\"\"\n",
    "conexion2.close()   "
   ]
  },
  {
   "cell_type": "code",
   "execution_count": 10,
   "id": "9c24ed45",
   "metadata": {},
   "outputs": [],
   "source": [
    "conexion2=sqlite3.connect(\"bas1.db\")\n",
    "cursor2=conexion2.cursor()\n",
    "cursor2.execute(\"SELECT * FROM articulos1;\")\n",
    "que1=cursor2.fetchmany(3)\n",
    "\"\"\"for fila in que1:\n",
    "     print(fila)\"\"\"\n",
    "conexion2.close()   "
   ]
  },
  {
   "cell_type": "code",
   "execution_count": 9,
   "id": "fe5d2191",
   "metadata": {},
   "outputs": [],
   "source": [
    "conexion2=sqlite3.connect(\"bas1.db\")\n",
    "cursor2=conexion2.cursor()\n",
    "cursor2.execute(\"SELECT * FROM articulos1;\")\n",
    "que1=cursor2.fetchone()\n",
    "#print(que1)\n",
    "conexion2.close()   "
   ]
  },
  {
   "cell_type": "code",
   "execution_count": 8,
   "id": "8f16a5a6",
   "metadata": {},
   "outputs": [],
   "source": [
    "conexion2=sqlite3.connect(\"bas1.db\")\n",
    "cursor2=conexion2.cursor()\n",
    "cursor2.execute(\"SELECT * FROM articulos1;\")\n",
    "que1=cursor2.fetchmany(3)\n",
    "#print(que1)\n",
    "conexion2.close()   "
   ]
  },
  {
   "cell_type": "code",
   "execution_count": 15,
   "id": "a896e4bd",
   "metadata": {},
   "outputs": [
    {
     "data": {
      "text/plain": [
       "<sqlite3.Cursor at 0x244860b0ab0>"
      ]
     },
     "execution_count": 15,
     "metadata": {},
     "output_type": "execute_result"
    }
   ],
   "source": [
    "conexion2=sqlite3.connect(\"bas1.db\")\n",
    "cursor2=conexion2.cursor()\n",
    "cursor2.execute(\"SELECT * FROM articulos1;\")\n",
    "#cursor2.fetchone()\n",
    "#print(cursor2.fetchone())\n",
    "#print(cursor2.fetchone())\n",
    "#print(cursor2.fetchone())\n"
   ]
  },
  {
   "cell_type": "code",
   "execution_count": 4,
   "id": "a180ecdb",
   "metadata": {},
   "outputs": [],
   "source": [
    "conexion1=sqlite3.connect(\"bas1.db\")\n",
    "cursor1=conexion1.cursor()\n",
    "list1=[(\"pomelo\",38,\"b\"),(\"papa\",50,\"r\")]\n",
    "cursor1.executemany(\"INSERT INTO articulos1 (nombre,valor,descripcion) VALUES (?,?,?);\",list1)\n",
    "conexion1.commit()\n",
    "conexion1.close()    "
   ]
  },
  {
   "cell_type": "code",
   "execution_count": 6,
   "id": "c0efa809",
   "metadata": {},
   "outputs": [
    {
     "data": {
      "text/plain": [
       "<sqlite3.Cursor at 0x24486090ea0>"
      ]
     },
     "execution_count": 6,
     "metadata": {},
     "output_type": "execute_result"
    }
   ],
   "source": [
    "conexion2=sqlite3.connect(\"bas1.db\")\n",
    "cursor2=conexion2.cursor()\n",
    "cursor2.execute(\"SELECT * FROM articulos1;\")\n",
    "#print(cursor2.fetchall())"
   ]
  },
  {
   "cell_type": "code",
   "execution_count": null,
   "id": "d7763cbd",
   "metadata": {},
   "outputs": [],
   "source": []
  }
 ],
 "metadata": {
  "kernelspec": {
   "display_name": "Python 3",
   "language": "python",
   "name": "python3"
  },
  "language_info": {
   "codemirror_mode": {
    "name": "ipython",
    "version": 3
   },
   "file_extension": ".py",
   "mimetype": "text/x-python",
   "name": "python",
   "nbconvert_exporter": "python",
   "pygments_lexer": "ipython3",
   "version": "3.7.10"
  }
 },
 "nbformat": 4,
 "nbformat_minor": 5
}
