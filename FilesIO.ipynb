{
 "cells": [
  {
   "cell_type": "markdown",
   "id": "6536f04c",
   "metadata": {},
   "source": [
    "# Files"
   ]
  },
  {
   "cell_type": "markdown",
   "id": "c1c0366c",
   "metadata": {},
   "source": [
    "### Creo un archivo\n",
    "Lo puedo crear desde Python o crearlo afuera en un carpeta que yo elija y abrirlo desde acá.(Puedo usar el x o no)"
   ]
  },
  {
   "cell_type": "code",
   "execution_count": 2,
   "id": "5800b768",
   "metadata": {},
   "outputs": [],
   "source": [
    "f1=open(\"C:/Users/Nelson/Desktop/Nueva carpeta/txt5.txt\",\"x\")"
   ]
  },
  {
   "cell_type": "code",
   "execution_count": 3,
   "id": "d6b6236a",
   "metadata": {},
   "outputs": [],
   "source": [
    "f1=open(\"C:/Users/Nelson/Desktop/Nueva carpeta/txt5.txt\",\"w\")\n",
    "f1.write(\"Hola gente\")\n",
    "f1.close()"
   ]
  },
  {
   "cell_type": "code",
   "execution_count": 4,
   "id": "4dc180de",
   "metadata": {},
   "outputs": [
    {
     "name": "stdout",
     "output_type": "stream",
     "text": [
      "Hola gente\n"
     ]
    }
   ],
   "source": [
    "f1=open(\"C:/Users/Nelson/Desktop/Nueva carpeta/txt5.txt\",\"r\")\n",
    "print(f1.read())\n",
    "f1.close()"
   ]
  },
  {
   "cell_type": "code",
   "execution_count": 5,
   "id": "71665859",
   "metadata": {},
   "outputs": [],
   "source": [
    "f1=open(\"C:/Users/Nelson/Desktop/Nueva carpeta/txt5.txt\",\"w\")\n",
    "f1.write(\" como andan\")\n",
    "f1.close()"
   ]
  },
  {
   "cell_type": "code",
   "execution_count": 6,
   "id": "3af40fb2",
   "metadata": {},
   "outputs": [
    {
     "name": "stdout",
     "output_type": "stream",
     "text": [
      " como andan\n"
     ]
    }
   ],
   "source": [
    "f1=open(\"C:/Users/Nelson/Desktop/Nueva carpeta/txt5.txt\",\"r\")\n",
    "print(f1.read())\n",
    "f1.close()"
   ]
  },
  {
   "cell_type": "code",
   "execution_count": 9,
   "id": "9998d733",
   "metadata": {},
   "outputs": [],
   "source": [
    "f1=open(\"C:/Users/Nelson/Desktop/Nueva carpeta/txt5.txt\",\"a\")\n",
    "f1.write(\"todo bien\")\n",
    "f1.close()"
   ]
  },
  {
   "cell_type": "code",
   "execution_count": 11,
   "id": "f6a30242",
   "metadata": {},
   "outputs": [
    {
     "name": "stdout",
     "output_type": "stream",
     "text": [
      " como andantodo bientodo bien\n"
     ]
    }
   ],
   "source": [
    "f1=open(\"C:/Users/Nelson/Desktop/Nueva carpeta/txt5.txt\",\"r\")\n",
    "print(f1.read())\n",
    "f1.close()"
   ]
  },
  {
   "cell_type": "code",
   "execution_count": null,
   "id": "c770a1a7",
   "metadata": {},
   "outputs": [],
   "source": [
    "f1=open(\"C:/Users/Nelson/Desktop/Nueva carpeta/txt5.txt\",\"w\")\n",
    "f1.write(\" como andan\")\n",
    "f1.close()"
   ]
  },
  {
   "cell_type": "code",
   "execution_count": 5,
   "id": "33dde698",
   "metadata": {},
   "outputs": [
    {
     "name": "stdout",
     "output_type": "stream",
     "text": [
      "Hola\n"
     ]
    }
   ],
   "source": [
    "f1=open(\"C:/Users/Nelson/Desktop/Nueva carpeta/txt1.txt\",\"r\")\n",
    "print(f1.read(4))\n",
    "f1.close()"
   ]
  },
  {
   "cell_type": "code",
   "execution_count": 6,
   "id": "1fd0e672",
   "metadata": {},
   "outputs": [],
   "source": [
    "f1=open(\"C:/Users/Nelson/Desktop/Nueva carpeta/txt1.txt\",\"a\")\n",
    "f1.write(\" que bueno esta esto\")\n",
    "f1.close()"
   ]
  },
  {
   "cell_type": "code",
   "execution_count": 7,
   "id": "0a7535e6",
   "metadata": {},
   "outputs": [
    {
     "name": "stdout",
     "output_type": "stream",
     "text": [
      "Hola que tal que bueno esta esto\n"
     ]
    }
   ],
   "source": [
    "f1=open(\"C:/Users/Nelson/Desktop/Nueva carpeta/txt1.txt\",\"r\")\n",
    "print(f1.read())\n",
    "f1.close()"
   ]
  },
  {
   "cell_type": "code",
   "execution_count": 8,
   "id": "52627d5c",
   "metadata": {},
   "outputs": [],
   "source": [
    "f1=open(\"C:/Users/Nelson/Desktop/Nueva carpeta/txt1.txt\",\"a\")\n",
    "f1.write(\".\\n Es de mucha utilidad.\" )\n",
    "f1.close()"
   ]
  },
  {
   "cell_type": "code",
   "execution_count": 9,
   "id": "837c5176",
   "metadata": {},
   "outputs": [
    {
     "name": "stdout",
     "output_type": "stream",
     "text": [
      "Hola que tal que bueno esta esto.\n",
      " Es de mucha utilidad.\n"
     ]
    }
   ],
   "source": [
    "f1=open(\"C:/Users/Nelson/Desktop/Nueva carpeta/txt1.txt\",\"r\")\n",
    "print(f1.read())\n",
    "f1.close()"
   ]
  },
  {
   "cell_type": "code",
   "execution_count": 10,
   "id": "3db336c6",
   "metadata": {},
   "outputs": [
    {
     "name": "stdout",
     "output_type": "stream",
     "text": [
      "Hola que tal que bueno esta esto.\n",
      "\n"
     ]
    }
   ],
   "source": [
    "f1=open(\"C:/Users/Nelson/Desktop/Nueva carpeta/txt1.txt\",\"r\")\n",
    "print(f1.readline())\n",
    "f1.close()"
   ]
  },
  {
   "cell_type": "code",
   "execution_count": 4,
   "id": "91ae4bb4",
   "metadata": {},
   "outputs": [
    {
     "name": "stdout",
     "output_type": "stream",
     "text": [
      "Hola que tal que bueno esta esto.\n",
      " Es de mucha utilidad.\n",
      "57\n"
     ]
    }
   ],
   "source": [
    "f1=open(\"C:/Users/Nelson/Desktop/Nueva carpeta/txt1.txt\",\"r\")\n",
    "print(f1.read())\n",
    "print(f1.tell())"
   ]
  },
  {
   "cell_type": "code",
   "execution_count": 7,
   "id": "95c832a4",
   "metadata": {},
   "outputs": [
    {
     "name": "stdout",
     "output_type": "stream",
     "text": [
      "Hola que tal que bueno esta esto.\n",
      " Es de mucha utilidad.\n",
      "5\n",
      "que tal que bueno esta esto.\n",
      " Es de mucha utilidad.\n"
     ]
    }
   ],
   "source": [
    "f1=open(\"C:/Users/Nelson/Desktop/Nueva carpeta/txt1.txt\",\"r\")\n",
    "print(f1.read())\n",
    "print(f1.seek(5,0))\n",
    "print(f1.read())"
   ]
  },
  {
   "cell_type": "code",
   "execution_count": 45,
   "id": "5af3d9ca",
   "metadata": {},
   "outputs": [
    {
     "name": "stdout",
     "output_type": "stream",
     "text": [
      "Hola que tal que bueno esta esto.\n",
      " Es de mucha utilidad.\n",
      "0\n",
      "Hola que tal que bueno esta esto.\n",
      " Es de mucha utilidad.\n"
     ]
    }
   ],
   "source": [
    "f1=open(\"C:/Users/Nelson/Desktop/Nueva carpeta/txt1.txt\",\"r\")\n",
    "print(f1.read())\n",
    "print(f1.seek(0,0))\n",
    "print(f1.read())\n",
    "f1.close()"
   ]
  },
  {
   "cell_type": "code",
   "execution_count": 18,
   "id": "0b13490b",
   "metadata": {},
   "outputs": [
    {
     "ename": "FileNotFoundError",
     "evalue": "[WinError 2] El sistema no puede encontrar el archivo especificado: 'C:/Users/Nelson/Desktop/Nueva carpeta/txt7.txt' -> 'C:/Users/Nelson/Desktop/Nueva carpeta/txt8.txt'",
     "output_type": "error",
     "traceback": [
      "\u001b[1;31m---------------------------------------------------------------------------\u001b[0m",
      "\u001b[1;31mFileNotFoundError\u001b[0m                         Traceback (most recent call last)",
      "\u001b[1;32m<ipython-input-18-4f0d61494365>\u001b[0m in \u001b[0;36m<module>\u001b[1;34m\u001b[0m\n\u001b[0;32m      2\u001b[0m \u001b[0mf2\u001b[0m\u001b[1;33m=\u001b[0m\u001b[0mopen\u001b[0m\u001b[1;33m(\u001b[0m\u001b[1;34m\"C:/Users/Nelson/Desktop/Nueva carpeta/txt3.txt\"\u001b[0m\u001b[1;33m,\u001b[0m\u001b[1;34m\"w\"\u001b[0m\u001b[1;33m)\u001b[0m\u001b[1;33m\u001b[0m\u001b[1;33m\u001b[0m\u001b[0m\n\u001b[0;32m      3\u001b[0m \u001b[0mf2\u001b[0m\u001b[1;33m.\u001b[0m\u001b[0mclose\u001b[0m\u001b[1;33m(\u001b[0m\u001b[1;33m)\u001b[0m\u001b[1;33m\u001b[0m\u001b[1;33m\u001b[0m\u001b[0m\n\u001b[1;32m----> 4\u001b[1;33m \u001b[0mf3\u001b[0m\u001b[1;33m=\u001b[0m\u001b[0mos\u001b[0m\u001b[1;33m.\u001b[0m\u001b[0mrename\u001b[0m\u001b[1;33m(\u001b[0m\u001b[1;34m\"C:/Users/Nelson/Desktop/Nueva carpeta/txt7.txt\"\u001b[0m\u001b[1;33m,\u001b[0m\u001b[1;34m\"C:/Users/Nelson/Desktop/Nueva carpeta/txt8.txt\"\u001b[0m\u001b[1;33m)\u001b[0m\u001b[1;33m\u001b[0m\u001b[1;33m\u001b[0m\u001b[0m\n\u001b[0m",
      "\u001b[1;31mFileNotFoundError\u001b[0m: [WinError 2] El sistema no puede encontrar el archivo especificado: 'C:/Users/Nelson/Desktop/Nueva carpeta/txt7.txt' -> 'C:/Users/Nelson/Desktop/Nueva carpeta/txt8.txt'"
     ]
    }
   ],
   "source": [
    "import os\n",
    "f2=open(\"C:/Users/Nelson/Desktop/Nueva carpeta/txt3.txt\",\"w\")\n",
    "f2.close()\n",
    "f3=os.rename(\"C:/Users/Nelson/Desktop/Nueva carpeta/txt7.txt\",\"C:/Users/Nelson/Desktop/Nueva carpeta/txt8.txt\")"
   ]
  },
  {
   "cell_type": "code",
   "execution_count": 20,
   "id": "8c6e69b7",
   "metadata": {},
   "outputs": [],
   "source": [
    "import os\n",
    "f1=open(\"C:/Users/Nelson/Desktop/Nueva carpeta/txt1.txt\",\"r\")\n",
    "d1=os.mkdir(\"nuevo1\")"
   ]
  },
  {
   "cell_type": "code",
   "execution_count": 26,
   "id": "76377e91",
   "metadata": {},
   "outputs": [
    {
     "name": "stdout",
     "output_type": "stream",
     "text": [
      "C:\\Users\\Nelson\n"
     ]
    }
   ],
   "source": [
    "print(os.getcwd())  "
   ]
  },
  {
   "cell_type": "code",
   "execution_count": 27,
   "id": "40702114",
   "metadata": {},
   "outputs": [],
   "source": [
    "os.chdir(\"C:/Users/Nelson/Desktop/Nueva carpeta/\")"
   ]
  },
  {
   "cell_type": "code",
   "execution_count": 28,
   "id": "077a4ea9",
   "metadata": {},
   "outputs": [
    {
     "name": "stdout",
     "output_type": "stream",
     "text": [
      "C:\\Users\\Nelson\\Desktop\\Nueva carpeta\n"
     ]
    }
   ],
   "source": [
    "print(os.getcwd())"
   ]
  },
  {
   "cell_type": "code",
   "execution_count": 29,
   "id": "b0def92a",
   "metadata": {},
   "outputs": [],
   "source": [
    "d2=os.mkdir(\"nuevo2\")"
   ]
  },
  {
   "cell_type": "code",
   "execution_count": 58,
   "id": "30e0a020",
   "metadata": {},
   "outputs": [],
   "source": [
    "#with  open(\"C:/Users/Nelson/Desktop/Nueva carpeta/txt1.txt\",\"r\") as f1:    \n",
    " #   print(f1.read())  "
   ]
  },
  {
   "cell_type": "code",
   "execution_count": null,
   "id": "ed0af916",
   "metadata": {},
   "outputs": [],
   "source": []
  },
  {
   "cell_type": "code",
   "execution_count": null,
   "id": "deaf0764",
   "metadata": {},
   "outputs": [],
   "source": []
  }
 ],
 "metadata": {
  "kernelspec": {
   "display_name": "Python 3",
   "language": "python",
   "name": "python3"
  },
  "language_info": {
   "codemirror_mode": {
    "name": "ipython",
    "version": 3
   },
   "file_extension": ".py",
   "mimetype": "text/x-python",
   "name": "python",
   "nbconvert_exporter": "python",
   "pygments_lexer": "ipython3",
   "version": "3.7.10"
  }
 },
 "nbformat": 4,
 "nbformat_minor": 5
}
