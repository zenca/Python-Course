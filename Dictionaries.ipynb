{
 "cells": [
  {
   "cell_type": "markdown",
   "id": "d62a24d3",
   "metadata": {},
   "source": [
    "# Dictionaries in Python "
   ]
  },
  {
   "cell_type": "markdown",
   "id": "ca413c6f",
   "metadata": {},
   "source": [
    "### Create Dictionary"
   ]
  },
  {
   "cell_type": "code",
   "execution_count": 2,
   "id": "47bc8ee7",
   "metadata": {},
   "outputs": [
    {
     "name": "stdout",
     "output_type": "stream",
     "text": [
      "{'marca': 'Ford', 'modelo': 'Mustang', 'año': 1964, 'colores': ['red', 'white', 'blue']}\n"
     ]
    }
   ],
   "source": [
    "dict1 = {\"marca\": \"Ford\",\"modelo\": \"Mustang\",\"año\": 1964, \"colores\": [\"red\", \"white\", \"blue\"]}\n",
    "print(dict1)"
   ]
  },
  {
   "cell_type": "markdown",
   "id": "4d5bff56",
   "metadata": {},
   "source": [
    "### Built.in functions en Dictionaries"
   ]
  },
  {
   "cell_type": "code",
   "execution_count": 3,
   "id": "f9734bb5",
   "metadata": {},
   "outputs": [
    {
     "name": "stdout",
     "output_type": "stream",
     "text": [
      "4\n"
     ]
    }
   ],
   "source": [
    "a=len(dict1)\n",
    "print(a)"
   ]
  },
  {
   "cell_type": "code",
   "execution_count": 4,
   "id": "d28b26a9",
   "metadata": {},
   "outputs": [
    {
     "name": "stdout",
     "output_type": "stream",
     "text": [
      "['marca', 'modelo', 'año', 'colores']\n"
     ]
    }
   ],
   "source": [
    "b=list(dict1)\n",
    "print(b)"
   ]
  },
  {
   "cell_type": "code",
   "execution_count": 6,
   "id": "1c1d1ace",
   "metadata": {},
   "outputs": [
    {
     "name": "stdout",
     "output_type": "stream",
     "text": [
      "{'edad': 5, 'peso': 23}\n"
     ]
    }
   ],
   "source": [
    "c=dict(edad=5, peso=23)\n",
    "print(c)"
   ]
  },
  {
   "cell_type": "markdown",
   "id": "24483acd",
   "metadata": {},
   "source": [
    "### Operaciones"
   ]
  },
  {
   "cell_type": "code",
   "execution_count": 10,
   "id": "666ee56d",
   "metadata": {},
   "outputs": [
    {
     "name": "stdout",
     "output_type": "stream",
     "text": [
      "True\n"
     ]
    }
   ],
   "source": [
    "dict2={\"edad\":5,\"motor\":23}\n",
    "d=7 in dict2\n",
    "print(d)\n"
   ]
  },
  {
   "cell_type": "code",
   "execution_count": null,
   "id": "892b7baa",
   "metadata": {},
   "outputs": [],
   "source": []
  },
  {
   "cell_type": "markdown",
   "id": "ff1b2f80",
   "metadata": {},
   "source": [
    "### Método de Dictionary"
   ]
  },
  {
   "cell_type": "code",
   "execution_count": 13,
   "id": "3a7ab6b4",
   "metadata": {},
   "outputs": [
    {
     "name": "stdout",
     "output_type": "stream",
     "text": [
      "1964\n"
     ]
    }
   ],
   "source": [
    "e=dict1.get(\"año\")\n",
    "print(e)"
   ]
  },
  {
   "cell_type": "code",
   "execution_count": 14,
   "id": "24863c6c",
   "metadata": {},
   "outputs": [
    {
     "name": "stdout",
     "output_type": "stream",
     "text": [
      "dict_items([('marca', 'Ford'), ('modelo', 'Mustang'), ('año', 1964), ('colores', ['red', 'white', 'blue'])])\n"
     ]
    }
   ],
   "source": [
    "f=dict1.items()\n",
    "print(f)"
   ]
  },
  {
   "cell_type": "code",
   "execution_count": 16,
   "id": "3ad1e52e",
   "metadata": {},
   "outputs": [
    {
     "name": "stdout",
     "output_type": "stream",
     "text": [
      "Ford\n",
      "{'modelo': 'Mustang', 'año': 1964, 'colores': ['red', 'white', 'blue']}\n"
     ]
    }
   ],
   "source": [
    "dict1 = {\"marca\": \"Ford\",\"modelo\": \"Mustang\",\"año\": 1964, \"colores\": [\"red\", \"white\", \"blue\"]}\n",
    "g=dict1.pop(\"marca\")\n",
    "print(g)\n",
    "print(dict1)"
   ]
  },
  {
   "cell_type": "code",
   "execution_count": 18,
   "id": "e2264dc4",
   "metadata": {},
   "outputs": [
    {
     "name": "stdout",
     "output_type": "stream",
     "text": [
      "None\n"
     ]
    }
   ],
   "source": [
    "h=dict2.update({\"motor\":1600})\n",
    "print(h)"
   ]
  },
  {
   "cell_type": "markdown",
   "id": "7277f08d",
   "metadata": {},
   "source": [
    "### Indexing "
   ]
  },
  {
   "cell_type": "code",
   "execution_count": 19,
   "id": "10deaa35",
   "metadata": {},
   "outputs": [
    {
     "name": "stdout",
     "output_type": "stream",
     "text": [
      "5\n"
     ]
    }
   ],
   "source": [
    "j=dict2[\"edad\"]\n",
    "print(j)"
   ]
  },
  {
   "cell_type": "markdown",
   "id": "f557028f",
   "metadata": {},
   "source": [
    "### Bucles"
   ]
  },
  {
   "cell_type": "code",
   "execution_count": 20,
   "id": "b36e2ab8",
   "metadata": {},
   "outputs": [
    {
     "name": "stdout",
     "output_type": "stream",
     "text": [
      "modelo\n",
      "año\n",
      "colores\n"
     ]
    }
   ],
   "source": [
    "for x in dict1.keys():\n",
    "    print(x)"
   ]
  },
  {
   "cell_type": "code",
   "execution_count": 22,
   "id": "8bc19bc6",
   "metadata": {},
   "outputs": [
    {
     "name": "stdout",
     "output_type": "stream",
     "text": [
      "('edad', 5)\n",
      "(7, 23)\n",
      "('motor', 1600)\n",
      "{'edad': 5, 7: 23, 'motor': 1600}\n"
     ]
    }
   ],
   "source": [
    "for x in dict2.items():\n",
    "    print(x)\n",
    "print(dict2)"
   ]
  },
  {
   "cell_type": "code",
   "execution_count": 74,
   "id": "f8970137",
   "metadata": {},
   "outputs": [],
   "source": [
    "for x in dict1.values():\n",
    "    print(x)"
   ]
  },
  {
   "cell_type": "markdown",
   "id": "94cdbfef",
   "metadata": {},
   "source": [
    "### Otros"
   ]
  },
  {
   "cell_type": "code",
   "execution_count": 23,
   "id": "560d1059",
   "metadata": {},
   "outputs": [
    {
     "name": "stdout",
     "output_type": "stream",
     "text": [
      "Ingrese un nombreAndrés\n",
      "ingrese una edad32\n",
      "Ingrese un nombreFabián\n",
      "ingrese una edad25\n",
      "Ingrese un nombreGabriela\n",
      "ingrese una edad22\n",
      "{'Andrés': 32, 'Fabián': 25, 'Gabriela': 22}\n"
     ]
    }
   ],
   "source": [
    "dict3={}\n",
    "for x in range(3):\n",
    "    prod=input(\"Ingrese un nombre\")\n",
    "    edad=int(input(\"ingrese una edad\"))\n",
    "    dict3[prod]=edad\n",
    "print(dict3)       "
   ]
  },
  {
   "cell_type": "code",
   "execution_count": 25,
   "id": "9b79d32e",
   "metadata": {},
   "outputs": [],
   "source": [
    "p=dict3.values()\n",
    "#print(p)"
   ]
  },
  {
   "cell_type": "code",
   "execution_count": 26,
   "id": "11722820",
   "metadata": {},
   "outputs": [
    {
     "name": "stdout",
     "output_type": "stream",
     "text": [
      "Mustang\n",
      "{'marca': 'Ford', 'modelo': 'Mustang', 'año': 1964, 'color': 'rojo'}\n",
      "{'modelo': 'Mustang', 'año': 1964, 'color': 'rojo'}\n"
     ]
    }
   ],
   "source": [
    "autos ={\"marca\": \"Ford\",\"modelo\": \"Mustang\",\"año\": 1964}\n",
    "a=autos.get('modelo')\n",
    "print(a)\n",
    "b=autos.update({'color':'rojo'})\n",
    "print(autos)\n",
    "c=autos.pop('marca')\n",
    "print(autos)\n"
   ]
  },
  {
   "cell_type": "code",
   "execution_count": null,
   "id": "e06280d0",
   "metadata": {},
   "outputs": [],
   "source": []
  }
 ],
 "metadata": {
  "kernelspec": {
   "display_name": "Python 3",
   "language": "python",
   "name": "python3"
  },
  "language_info": {
   "codemirror_mode": {
    "name": "ipython",
    "version": 3
   },
   "file_extension": ".py",
   "mimetype": "text/x-python",
   "name": "python",
   "nbconvert_exporter": "python",
   "pygments_lexer": "ipython3",
   "version": "3.7.10"
  }
 },
 "nbformat": 4,
 "nbformat_minor": 5
}
