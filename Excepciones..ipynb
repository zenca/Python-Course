{
 "cells": [
  {
   "cell_type": "markdown",
   "id": "c1badec4",
   "metadata": {},
   "source": [
    "# Excepciones"
   ]
  },
  {
   "cell_type": "code",
   "execution_count": 1,
   "id": "fe7e82ed",
   "metadata": {},
   "outputs": [
    {
     "name": "stdout",
     "output_type": "stream",
     "text": [
      "Ingrese un número Entero8\n"
     ]
    },
    {
     "ename": "TypeError",
     "evalue": "can only concatenate str (not \"int\") to str",
     "output_type": "error",
     "traceback": [
      "\u001b[1;31m---------------------------------------------------------------------------\u001b[0m",
      "\u001b[1;31mTypeError\u001b[0m                                 Traceback (most recent call last)",
      "\u001b[1;32m<ipython-input-1-17dd06930d97>\u001b[0m in \u001b[0;36m<module>\u001b[1;34m\u001b[0m\n\u001b[0;32m      1\u001b[0m \u001b[0ma\u001b[0m\u001b[1;33m=\u001b[0m\u001b[0minput\u001b[0m\u001b[1;33m(\u001b[0m\u001b[1;34m\"Ingrese un número Entero\"\u001b[0m\u001b[1;33m)\u001b[0m\u001b[1;33m\u001b[0m\u001b[1;33m\u001b[0m\u001b[0m\n\u001b[1;32m----> 2\u001b[1;33m \u001b[0mprint\u001b[0m\u001b[1;33m(\u001b[0m\u001b[0mc\u001b[0m\u001b[1;33m=\u001b[0m\u001b[0ma\u001b[0m\u001b[1;33m+\u001b[0m\u001b[1;36m2\u001b[0m\u001b[1;33m)\u001b[0m\u001b[1;33m\u001b[0m\u001b[1;33m\u001b[0m\u001b[0m\n\u001b[0m",
      "\u001b[1;31mTypeError\u001b[0m: can only concatenate str (not \"int\") to str"
     ]
    }
   ],
   "source": [
    "a=input(\"Ingrese un número Entero\")\n",
    "print(c=a+2)"
   ]
  },
  {
   "cell_type": "code",
   "execution_count": 3,
   "id": "0c5c278b",
   "metadata": {},
   "outputs": [
    {
     "name": "stdout",
     "output_type": "stream",
     "text": [
      "Ingrese un número Entero ocho\n"
     ]
    },
    {
     "ename": "ValueError",
     "evalue": "invalid literal for int() with base 10: 'ocho'",
     "output_type": "error",
     "traceback": [
      "\u001b[1;31m---------------------------------------------------------------------------\u001b[0m",
      "\u001b[1;31mValueError\u001b[0m                                Traceback (most recent call last)",
      "\u001b[1;32m<ipython-input-3-1b0570fe6ee9>\u001b[0m in \u001b[0;36m<module>\u001b[1;34m\u001b[0m\n\u001b[1;32m----> 1\u001b[1;33m \u001b[0ma\u001b[0m\u001b[1;33m=\u001b[0m\u001b[0mint\u001b[0m\u001b[1;33m(\u001b[0m\u001b[0minput\u001b[0m\u001b[1;33m(\u001b[0m\u001b[1;34m\"Ingrese un número Entero \"\u001b[0m\u001b[1;33m)\u001b[0m\u001b[1;33m)\u001b[0m\u001b[1;33m\u001b[0m\u001b[1;33m\u001b[0m\u001b[0m\n\u001b[0m\u001b[0;32m      2\u001b[0m \u001b[0mprint\u001b[0m\u001b[1;33m(\u001b[0m\u001b[0ma\u001b[0m\u001b[1;33m+\u001b[0m\u001b[1;36m2\u001b[0m\u001b[1;33m)\u001b[0m\u001b[1;33m\u001b[0m\u001b[1;33m\u001b[0m\u001b[0m\n",
      "\u001b[1;31mValueError\u001b[0m: invalid literal for int() with base 10: 'ocho'"
     ]
    }
   ],
   "source": [
    "a=int(input(\"Ingrese un número Entero \"))\n",
    "print(a+2)"
   ]
  },
  {
   "cell_type": "code",
   "execution_count": 5,
   "id": "6e7daafa",
   "metadata": {},
   "outputs": [
    {
     "name": "stdout",
     "output_type": "stream",
     "text": [
      "Ingrese un número Entero ocho\n",
      "Pusiste mal el dato\n"
     ]
    }
   ],
   "source": [
    "try:\n",
    "    a=int(input(\"Ingrese un número Entero \"))\n",
    "    print(a+2)\n",
    "except: print(\"Pusiste mal el dato\")    "
   ]
  },
  {
   "cell_type": "code",
   "execution_count": 7,
   "id": "2154da2a",
   "metadata": {},
   "outputs": [
    {
     "name": "stdout",
     "output_type": "stream",
     "text": [
      "Ingrese un número Entero 8\n",
      "10\n"
     ]
    }
   ],
   "source": [
    "try:\n",
    "    a=int(input(\"Ingrese un número Entero \"))\n",
    "except: print(\"Pusiste mal el dato\")   \n",
    "else:print(a+2)"
   ]
  },
  {
   "cell_type": "code",
   "execution_count": 10,
   "id": "3978a52f",
   "metadata": {},
   "outputs": [
    {
     "name": "stdout",
     "output_type": "stream",
     "text": [
      "Ingrese un número Entero 0\n"
     ]
    },
    {
     "ename": "ZeroDivisionError",
     "evalue": "division by zero",
     "output_type": "error",
     "traceback": [
      "\u001b[1;31m---------------------------------------------------------------------------\u001b[0m",
      "\u001b[1;31mZeroDivisionError\u001b[0m                         Traceback (most recent call last)",
      "\u001b[1;32m<ipython-input-10-513ade4371a5>\u001b[0m in \u001b[0;36m<module>\u001b[1;34m\u001b[0m\n\u001b[0;32m      3\u001b[0m \u001b[1;32mexcept\u001b[0m \u001b[0mValueError\u001b[0m\u001b[1;33m:\u001b[0m \u001b[0mprint\u001b[0m\u001b[1;33m(\u001b[0m\u001b[1;34m\"Pusiste mal el dato\"\u001b[0m\u001b[1;33m)\u001b[0m\u001b[1;33m\u001b[0m\u001b[1;33m\u001b[0m\u001b[0m\n\u001b[0;32m      4\u001b[0m \u001b[1;32mexcept\u001b[0m \u001b[0mArithmeticError\u001b[0m\u001b[1;33m:\u001b[0m \u001b[0mprint\u001b[0m\u001b[1;33m(\u001b[0m\u001b[1;34m\"El número no puede ser 0\"\u001b[0m\u001b[1;33m)\u001b[0m\u001b[1;33m\u001b[0m\u001b[1;33m\u001b[0m\u001b[0m\n\u001b[1;32m----> 5\u001b[1;33m \u001b[1;32melse\u001b[0m\u001b[1;33m:\u001b[0m\u001b[0mprint\u001b[0m\u001b[1;33m(\u001b[0m\u001b[1;36m10\u001b[0m\u001b[1;33m/\u001b[0m\u001b[0ma\u001b[0m\u001b[1;33m)\u001b[0m\u001b[1;33m\u001b[0m\u001b[1;33m\u001b[0m\u001b[0m\n\u001b[0m",
      "\u001b[1;31mZeroDivisionError\u001b[0m: division by zero"
     ]
    }
   ],
   "source": [
    "try:\n",
    "    a=int(input(\"Ingrese un número Entero \"))\n",
    "except ValueError: print(\"Pusiste mal el dato\") \n",
    "except ArithmeticError: print(\"El número no puede ser 0\")    \n",
    "else:print(10/a)"
   ]
  },
  {
   "cell_type": "code",
   "execution_count": 12,
   "id": "75703809",
   "metadata": {},
   "outputs": [
    {
     "name": "stdout",
     "output_type": "stream",
     "text": [
      "Ingrese un número Entero 0\n",
      "El número no puede ser 0\n"
     ]
    }
   ],
   "source": [
    "try:\n",
    "    a=int(input(\"Ingrese un número Entero \"))\n",
    "    print(10/a)\n",
    "except ValueError: print(\"Pusiste mal el dato\") \n",
    "except ArithmeticError:print(\"El número no puede ser 0\")    \n"
   ]
  },
  {
   "cell_type": "code",
   "execution_count": 18,
   "id": "77a82acb",
   "metadata": {},
   "outputs": [
    {
     "name": "stdout",
     "output_type": "stream",
     "text": [
      "Ingrese un número Entero 0\n",
      "El número no puede ser 0\n"
     ]
    }
   ],
   "source": [
    "try:\n",
    "    a=int(input(\"Ingrese un número Entero \"))\n",
    "    print(10/a)\n",
    "except ValueError: print(\"Pusiste mal el dato\") \n",
    "except ArithmeticError:print(\"El número no puede ser 0\")    \n",
    "else:print(10/(a+1))"
   ]
  },
  {
   "cell_type": "code",
   "execution_count": 13,
   "id": "89f90dca",
   "metadata": {},
   "outputs": [
    {
     "name": "stdout",
     "output_type": "stream",
     "text": [
      "Ingrese un número Entero 0\n",
      "El número no puede ser 0\n",
      "5.0\n"
     ]
    }
   ],
   "source": [
    "try:\n",
    "    a=int(input(\"Ingrese un número Entero \"))\n",
    "    print(10/a)\n",
    "except ValueError: print(\"Pusiste mal el dato\") \n",
    "except ArithmeticError:print(\"El número no puede ser 0\")    \n",
    "finally:print(10/(a+2))"
   ]
  },
  {
   "cell_type": "code",
   "execution_count": 24,
   "id": "7582a0f4",
   "metadata": {},
   "outputs": [
    {
     "name": "stdout",
     "output_type": "stream",
     "text": [
      "Ingrese un número Entero 0\n",
      "El número no puede ser 0 pero le sumé 2 y me dió 5.0\n"
     ]
    }
   ],
   "source": [
    "try:\n",
    "    a=int(input(\"Ingrese un número Entero \"))\n",
    "    print(10/a)\n",
    "except ValueError: print(\"Pusiste mal el dato\")    \n",
    "except ArithmeticError:\n",
    "    c=10/(a+2)\n",
    "    print(f\"El número no puede ser 0 pero le sumé 2 y me dió {c}\")"
   ]
  },
  {
   "cell_type": "code",
   "execution_count": 27,
   "id": "9396ad7a",
   "metadata": {},
   "outputs": [
    {
     "name": "stdout",
     "output_type": "stream",
     "text": [
      "Ingrese un número Entero 0\n",
      "El número no puede ser 0 pero le sumé 2 y me dió 5.0\n",
      "Y bueno que vas a hacer\n"
     ]
    }
   ],
   "source": [
    "try:\n",
    "    a=int(input(\"Ingrese un número Entero \"))\n",
    "    b=10/a\n",
    "except ValueError: print(\"Pusiste mal el dato\")    \n",
    "except ArithmeticError:\n",
    "    c=10/(a+2)\n",
    "    print(f\"El número no puede ser 0 pero le sumé 2 y me dió {c}\")\n",
    "else:print(b)\n",
    "finally:print( \"Y bueno que vas a hacer\")    "
   ]
  },
  {
   "cell_type": "code",
   "execution_count": 14,
   "id": "0f5bb537",
   "metadata": {},
   "outputs": [
    {
     "name": "stdout",
     "output_type": "stream",
     "text": [
      "Ingrese un número Entero 7\n"
     ]
    },
    {
     "ename": "Exception",
     "evalue": "Quiero números mayores a 2",
     "output_type": "error",
     "traceback": [
      "\u001b[1;31m---------------------------------------------------------------------------\u001b[0m",
      "\u001b[1;31mException\u001b[0m                                 Traceback (most recent call last)",
      "\u001b[1;32m<ipython-input-14-b8e0a10e780b>\u001b[0m in \u001b[0;36m<module>\u001b[1;34m\u001b[0m\n\u001b[0;32m      2\u001b[0m \u001b[0mb\u001b[0m\u001b[1;33m=\u001b[0m\u001b[1;36m10\u001b[0m\u001b[1;33m/\u001b[0m\u001b[0ma\u001b[0m\u001b[1;33m\u001b[0m\u001b[1;33m\u001b[0m\u001b[0m\n\u001b[0;32m      3\u001b[0m \u001b[1;32mif\u001b[0m \u001b[0ma\u001b[0m \u001b[1;33m>\u001b[0m \u001b[1;36m2\u001b[0m\u001b[1;33m:\u001b[0m\u001b[1;33m\u001b[0m\u001b[1;33m\u001b[0m\u001b[0m\n\u001b[1;32m----> 4\u001b[1;33m     \u001b[1;32mraise\u001b[0m \u001b[0mException\u001b[0m\u001b[1;33m(\u001b[0m\u001b[1;34m\"Quiero números mayores a 2\"\u001b[0m\u001b[1;33m)\u001b[0m\u001b[1;33m\u001b[0m\u001b[1;33m\u001b[0m\u001b[0m\n\u001b[0m",
      "\u001b[1;31mException\u001b[0m: Quiero números mayores a 2"
     ]
    }
   ],
   "source": [
    "a=int(input(\"Ingrese un número Entero \"))\n",
    "b=10/a\n",
    "if a > 2:\n",
    "    raise Exception(\"Quiero números mayores a 2\")"
   ]
  },
  {
   "cell_type": "code",
   "execution_count": null,
   "id": "292be88e",
   "metadata": {},
   "outputs": [],
   "source": [
    "a=int(input(\"Ingrese un número Entero \"))\n",
    "b=10/a"
   ]
  }
 ],
 "metadata": {
  "kernelspec": {
   "display_name": "Python 3",
   "language": "python",
   "name": "python3"
  },
  "language_info": {
   "codemirror_mode": {
    "name": "ipython",
    "version": 3
   },
   "file_extension": ".py",
   "mimetype": "text/x-python",
   "name": "python",
   "nbconvert_exporter": "python",
   "pygments_lexer": "ipython3",
   "version": "3.7.10"
  }
 },
 "nbformat": 4,
 "nbformat_minor": 5
}
