{
 "cells": [
  {
   "cell_type": "markdown",
   "id": "f3be3d46",
   "metadata": {},
   "source": [
    "# Clases"
   ]
  },
  {
   "cell_type": "markdown",
   "id": "3274ca2a",
   "metadata": {},
   "source": [
    "### Crear clases y objetos"
   ]
  },
  {
   "cell_type": "code",
   "execution_count": 3,
   "id": "514ef2bd",
   "metadata": {},
   "outputs": [
    {
     "name": "stdout",
     "output_type": "stream",
     "text": [
      "5\n"
     ]
    }
   ],
   "source": [
    "class miClase:\n",
    "    x=5\n",
    "ob1=miClase()\n",
    "print(ob1.x)"
   ]
  },
  {
   "cell_type": "code",
   "execution_count": 6,
   "id": "3f8035a1",
   "metadata": {},
   "outputs": [
    {
     "name": "stdout",
     "output_type": "stream",
     "text": [
      "5\n"
     ]
    }
   ],
   "source": [
    "class miClase:\n",
    "    x=5\n",
    "    def imprimir(self):\n",
    "        print(self.x)\n",
    "ob1=miClase()   \n",
    "#print(ob1.x)\n",
    "ob1.imprimir()"
   ]
  },
  {
   "cell_type": "markdown",
   "id": "7858c388",
   "metadata": {},
   "source": [
    "### Uso del constructor"
   ]
  },
  {
   "cell_type": "code",
   "execution_count": 2,
   "id": "19f2e2a1",
   "metadata": {},
   "outputs": [
    {
     "name": "stdout",
     "output_type": "stream",
     "text": [
      "19\n"
     ]
    }
   ],
   "source": [
    "class miClase:\n",
    "    x=5\n",
    "    def __init__(self,b):\n",
    "        self.b=b  \n",
    "    \n",
    "    def imprimir(self):\n",
    "        print(self.x+self.b)\n",
    "ob1=miClase(14)        \n",
    "ob1.imprimir()"
   ]
  },
  {
   "cell_type": "code",
   "execution_count": 4,
   "id": "7f81f981",
   "metadata": {},
   "outputs": [
    {
     "name": "stdout",
     "output_type": "stream",
     "text": [
      "8\n"
     ]
    }
   ],
   "source": [
    "class miClase:\n",
    "    x=5\n",
    "    def __init__(self,nombre, edad):\n",
    "        self.nombre=nombre\n",
    "        self.edad=edad\n",
    "        \n",
    "    def imprimir(self):\n",
    "        print(self.x+self.nombre)\n",
    "ob1=miClase(3,2)        \n",
    "ob1.imprimir()        "
   ]
  },
  {
   "cell_type": "markdown",
   "id": "e18a7760",
   "metadata": {},
   "source": [
    "### Cambiar la variable"
   ]
  },
  {
   "cell_type": "code",
   "execution_count": 5,
   "id": "4d5e40f6",
   "metadata": {},
   "outputs": [
    {
     "name": "stdout",
     "output_type": "stream",
     "text": [
      "35\n"
     ]
    }
   ],
   "source": [
    "class miClase:\n",
    "    x=5\n",
    "    def __init__(self):\n",
    "        self.b=2  \n",
    "    \n",
    "    def imprimir(self):\n",
    "        print(self.x+self.b)\n",
    "ob1=miClase()        \n",
    "ob1.b=30\n",
    "ob1.imprimir()"
   ]
  },
  {
   "cell_type": "markdown",
   "id": "6966b651",
   "metadata": {},
   "source": [
    "### Herencia"
   ]
  },
  {
   "cell_type": "code",
   "execution_count": 6,
   "id": "544e3f4c",
   "metadata": {},
   "outputs": [
    {
     "name": "stdout",
     "output_type": "stream",
     "text": [
      "7\n"
     ]
    }
   ],
   "source": [
    "class miClase1:\n",
    "    x=5\n",
    "    def __init__(self):\n",
    "        self.b=2  \n",
    "    \n",
    "    def imprimir(self):\n",
    "        print(self.x+self.b)\n",
    "\n",
    "class miClase2(miClase1):\n",
    "    pass\n",
    "ob1=miClase2()\n",
    "ob1.imprimir()"
   ]
  },
  {
   "cell_type": "code",
   "execution_count": 7,
   "id": "38dac523",
   "metadata": {},
   "outputs": [
    {
     "name": "stdout",
     "output_type": "stream",
     "text": [
      "13\n"
     ]
    }
   ],
   "source": [
    "class miClase1:\n",
    "    x=5\n",
    "    def __init__(self):\n",
    "        self.b=2  \n",
    "    \n",
    "    def imprimir(self):\n",
    "        print(self.x+self.b)\n",
    "\n",
    "class miClase2(miClase1):\n",
    "    def __init__(self):\n",
    "        super().__init__()\n",
    "        self.b=8\n",
    "ob1=miClase2()\n",
    "ob1.imprimir()"
   ]
  },
  {
   "cell_type": "code",
   "execution_count": 8,
   "id": "3e593e9e",
   "metadata": {},
   "outputs": [],
   "source": [
    "class miClase1:\n",
    "    x=5\n",
    "    def __init__(self):\n",
    "        self.b=2  \n",
    "    \n",
    "    def imprimir(self):\n",
    "        print(self.x+self.b)\n",
    "\n",
    "class miClase2(miClase1):\n",
    "    def __init__(self):\n",
    "        \n",
    "        super().__init__()   \n",
    "        \n"
   ]
  },
  {
   "cell_type": "code",
   "execution_count": 10,
   "id": "7314bcc7",
   "metadata": {},
   "outputs": [
    {
     "name": "stdout",
     "output_type": "stream",
     "text": [
      "Hola\n"
     ]
    }
   ],
   "source": [
    "class miClase1:\n",
    "    x=5\n",
    "    def __init__(self):\n",
    "        self.b=2  \n",
    "    \n",
    "    def imprimir(self):\n",
    "        print(self.x+self.b)\n",
    "\n",
    "class miClase2():\n",
    "    def imprimir(self):\n",
    "        print(\"Hola\")\n",
    "class miClase3(miClase2, miClase1):\n",
    "    pass        \n",
    "ob1=miClase3()\n",
    "ob1.imprimir()"
   ]
  },
  {
   "cell_type": "code",
   "execution_count": 11,
   "id": "53fbf6d0",
   "metadata": {},
   "outputs": [
    {
     "name": "stdout",
     "output_type": "stream",
     "text": [
      "Hola\n"
     ]
    }
   ],
   "source": [
    "class miClase1:\n",
    "    x=5\n",
    "    def __init__(self):\n",
    "        self.b=2  \n",
    "    \n",
    "    def imprimir(self):\n",
    "        print(self.x+self.b)\n",
    "\n",
    "class miClase2(miClase1):\n",
    "    def imprimir(self):\n",
    "        print(\"Hola\")\n",
    "class miClase3(miClase2):\n",
    "    pass        \n",
    "ob1=miClase3()\n",
    "ob1.imprimir()"
   ]
  },
  {
   "cell_type": "markdown",
   "id": "474b62bb",
   "metadata": {},
   "source": [
    "### Colaboración de clases "
   ]
  },
  {
   "cell_type": "code",
   "execution_count": 13,
   "id": "129f297f",
   "metadata": {},
   "outputs": [
    {
     "name": "stdout",
     "output_type": "stream",
     "text": [
      "7\n"
     ]
    }
   ],
   "source": [
    "class miClase1:\n",
    "    x=5\n",
    "    def __init__(self):\n",
    "        self.b=2  \n",
    "    \n",
    "    def imprimir(self):\n",
    "        print(self.x+self.b)\n",
    "\n",
    "class miClase2():\n",
    "    ob1=miClase1()\n",
    "    def mostrar(self):\n",
    "         self.ob1.imprimir()\n",
    "ob2=miClase2()\n",
    "\n",
    "ob2.mostrar()\n"
   ]
  },
  {
   "cell_type": "markdown",
   "id": "00fb5681",
   "metadata": {},
   "source": [
    "### Métodos de dentro de la clase."
   ]
  },
  {
   "cell_type": "code",
   "execution_count": 17,
   "id": "d0fd888f",
   "metadata": {},
   "outputs": [
    {
     "name": "stdout",
     "output_type": "stream",
     "text": [
      "10\n"
     ]
    }
   ],
   "source": [
    "class miClase1:\n",
    "    x=5\n",
    "    \n",
    "    def __init__(self):\n",
    "        self.b=2  \n",
    "        self.c=0\n",
    "    def multiplicar(self):\n",
    "        self.c=self.x*self.b\n",
    "        self.imprimir(self.c)\n",
    "    def imprimir(self,z):\n",
    "        print(z)\n",
    "    \n",
    "\n",
    "ob1=miClase1()\n",
    "ob1.multiplicar()"
   ]
  },
  {
   "cell_type": "markdown",
   "id": "4241e443",
   "metadata": {},
   "source": [
    "### Encapsulamiento"
   ]
  },
  {
   "cell_type": "code",
   "execution_count": 18,
   "id": "82cf4603",
   "metadata": {},
   "outputs": [
    {
     "name": "stdout",
     "output_type": "stream",
     "text": [
      "7\n"
     ]
    },
    {
     "ename": "AttributeError",
     "evalue": "'miClase' object has no attribute '__x'",
     "output_type": "error",
     "traceback": [
      "\u001b[1;31m---------------------------------------------------------------------------\u001b[0m",
      "\u001b[1;31mAttributeError\u001b[0m                            Traceback (most recent call last)",
      "\u001b[1;32m<ipython-input-18-fd62f28dce89>\u001b[0m in \u001b[0;36m<module>\u001b[1;34m\u001b[0m\n\u001b[0;32m      8\u001b[0m \u001b[0mob1\u001b[0m\u001b[1;33m=\u001b[0m\u001b[0mmiClase\u001b[0m\u001b[1;33m(\u001b[0m\u001b[1;33m)\u001b[0m\u001b[1;33m\u001b[0m\u001b[1;33m\u001b[0m\u001b[0m\n\u001b[0;32m      9\u001b[0m \u001b[0mob1\u001b[0m\u001b[1;33m.\u001b[0m\u001b[0mimprimir\u001b[0m\u001b[1;33m(\u001b[0m\u001b[1;33m)\u001b[0m\u001b[1;33m\u001b[0m\u001b[1;33m\u001b[0m\u001b[0m\n\u001b[1;32m---> 10\u001b[1;33m \u001b[0mprint\u001b[0m\u001b[1;33m(\u001b[0m\u001b[0mob1\u001b[0m\u001b[1;33m.\u001b[0m\u001b[0m__x\u001b[0m\u001b[1;33m)\u001b[0m\u001b[1;33m\u001b[0m\u001b[1;33m\u001b[0m\u001b[0m\n\u001b[0m",
      "\u001b[1;31mAttributeError\u001b[0m: 'miClase' object has no attribute '__x'"
     ]
    }
   ],
   "source": [
    "class miClase:\n",
    "    __x=5\n",
    "    def __init__(self):\n",
    "        self.b=2  \n",
    "    \n",
    "    def imprimir(self):\n",
    "        print(self.__x+self.b)\n",
    "ob1=miClase()        \n",
    "ob1.imprimir()\n",
    "print(ob1.__x)"
   ]
  },
  {
   "cell_type": "markdown",
   "id": "2ddf8509",
   "metadata": {},
   "source": [
    "### Métodos Especiales(mágicos)"
   ]
  },
  {
   "cell_type": "code",
   "execution_count": 19,
   "id": "b59e7d7c",
   "metadata": {},
   "outputs": [
    {
     "name": "stdout",
     "output_type": "stream",
     "text": [
      "<__main__.Persona object at 0x000002763F8672C8>\n"
     ]
    }
   ],
   "source": [
    "class Persona:\n",
    "    def __init__(self,nom,ape):\n",
    "        self.nombre=nom\n",
    "        self.apellido=ape\n",
    " \n",
    "per1=Persona(\"Jose\",\"Rodriguez\")\n",
    "print(per1)"
   ]
  },
  {
   "cell_type": "code",
   "execution_count": 21,
   "id": "7480e4e0",
   "metadata": {},
   "outputs": [
    {
     "name": "stdout",
     "output_type": "stream",
     "text": [
      "Jose,Rodriguez\n"
     ]
    }
   ],
   "source": [
    "class Persona:\n",
    "    def __init__(self,nom,ape):\n",
    "        self.nombre=nom\n",
    "        self.apellido=ape\n",
    "\n",
    "    def __str__(self):\n",
    "        cadena=self.nombre+\",\"+self.apellido\n",
    "        return cadena\n",
    " \n",
    "per1=Persona(\"Jose\",\"Rodriguez\")\n",
    "print(per1)"
   ]
  },
  {
   "cell_type": "code",
   "execution_count": null,
   "id": "08222a29",
   "metadata": {},
   "outputs": [],
   "source": []
  }
 ],
 "metadata": {
  "kernelspec": {
   "display_name": "Python 3",
   "language": "python",
   "name": "python3"
  },
  "language_info": {
   "codemirror_mode": {
    "name": "ipython",
    "version": 3
   },
   "file_extension": ".py",
   "mimetype": "text/x-python",
   "name": "python",
   "nbconvert_exporter": "python",
   "pygments_lexer": "ipython3",
   "version": "3.7.10"
  }
 },
 "nbformat": 4,
 "nbformat_minor": 5
}
