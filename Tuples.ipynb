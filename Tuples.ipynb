{
 "cells": [
  {
   "cell_type": "markdown",
   "id": "fe97dfff",
   "metadata": {},
   "source": [
    "# Tuples\n",
    "### Operadores"
   ]
  },
  {
   "cell_type": "code",
   "execution_count": 1,
   "id": "1b9044c8",
   "metadata": {},
   "outputs": [
    {
     "name": "stdout",
     "output_type": "stream",
     "text": [
      "('apple', 3, 'cherry', 'apple', 'banana', 'cherry')\n"
     ]
    }
   ],
   "source": [
    "fruits = (\"apple\", 3, \"cherry\")\n",
    "frui = (\"apple\", \"banana\", \"cherry\")\n",
    "a=fruits+frui\n",
    "print(a)"
   ]
  },
  {
   "cell_type": "code",
   "execution_count": 2,
   "id": "f2ce2388",
   "metadata": {},
   "outputs": [
    {
     "name": "stdout",
     "output_type": "stream",
     "text": [
      "('apple', 3, 'cherry', 'apple', 3, 'cherry', 'apple', 3, 'cherry')\n"
     ]
    }
   ],
   "source": [
    "frui = (\"apple\", \"banana\", \"cherry\")\n",
    "b=fruits*3\n",
    "print(b)"
   ]
  },
  {
   "cell_type": "code",
   "execution_count": 3,
   "id": "ee8415b6",
   "metadata": {},
   "outputs": [
    {
     "name": "stdout",
     "output_type": "stream",
     "text": [
      "True\n"
     ]
    }
   ],
   "source": [
    "c=\"apple\" in frui\n",
    "print(c)"
   ]
  },
  {
   "cell_type": "code",
   "execution_count": 4,
   "id": "e15f90ac",
   "metadata": {},
   "outputs": [
    {
     "name": "stdout",
     "output_type": "stream",
     "text": [
      "False\n"
     ]
    }
   ],
   "source": [
    "d=\"apple\" not in frui\n",
    "print(d)"
   ]
  },
  {
   "cell_type": "markdown",
   "id": "71d802dc",
   "metadata": {},
   "source": [
    "### Funciones de Python en Tuplas"
   ]
  },
  {
   "cell_type": "code",
   "execution_count": 5,
   "id": "defd2e5e",
   "metadata": {},
   "outputs": [
    {
     "name": "stdout",
     "output_type": "stream",
     "text": [
      "apple\n"
     ]
    }
   ],
   "source": [
    "frui = (\"apple\", \"banana\", \"cherry\")\n",
    "e=min(frui)\n",
    "print(e)"
   ]
  },
  {
   "cell_type": "code",
   "execution_count": 6,
   "id": "779aaae1",
   "metadata": {},
   "outputs": [
    {
     "name": "stdout",
     "output_type": "stream",
     "text": [
      "3\n"
     ]
    }
   ],
   "source": [
    "f=len(frui)\n",
    "print(f)"
   ]
  },
  {
   "cell_type": "markdown",
   "id": "a476896c",
   "metadata": {},
   "source": [
    "### Keyword en Tuplas"
   ]
  },
  {
   "cell_type": "code",
   "execution_count": 8,
   "id": "9547ff36",
   "metadata": {},
   "outputs": [],
   "source": [
    "frui = (\"apple\", \"banana\", \"cherry\")\n",
    "del frui"
   ]
  },
  {
   "cell_type": "code",
   "execution_count": 18,
   "id": "dd168cf3",
   "metadata": {},
   "outputs": [
    {
     "name": "stdout",
     "output_type": "stream",
     "text": [
      "['apple', 'banana', 'cherry']\n",
      "banana\n",
      "['apple', 'cherry']\n",
      "('apple', 'cherry')\n"
     ]
    }
   ],
   "source": [
    "frui = (\"apple\", \"banana\", \"cherry\")\n",
    "a=list(frui)\n",
    "print(a)\n",
    "b=a.pop(1)\n",
    "print(b)\n",
    "print(a)\n",
    "k=tuple(a)\n",
    "print(k)"
   ]
  },
  {
   "cell_type": "markdown",
   "id": "a3436714",
   "metadata": {},
   "source": [
    "### Métodos de Tuplas"
   ]
  },
  {
   "cell_type": "code",
   "execution_count": 19,
   "id": "45c92e26",
   "metadata": {},
   "outputs": [
    {
     "name": "stdout",
     "output_type": "stream",
     "text": [
      "2\n"
     ]
    }
   ],
   "source": [
    "fru = (\"apple\", \"cherry\", \"banana\",\"banana\",5,5)\n",
    "g=fru.count(\"banana\")\n",
    "print(g)"
   ]
  },
  {
   "cell_type": "code",
   "execution_count": 20,
   "id": "3f939595",
   "metadata": {},
   "outputs": [
    {
     "name": "stdout",
     "output_type": "stream",
     "text": [
      "2\n"
     ]
    }
   ],
   "source": [
    "fru = (\"apple\", \"cherry\", \"banana\")\n",
    "j=fru.index(\"banana\")\n",
    "print(j)"
   ]
  },
  {
   "cell_type": "markdown",
   "id": "c8cab2d0",
   "metadata": {},
   "source": [
    "### Indexación, Slicing"
   ]
  },
  {
   "cell_type": "code",
   "execution_count": 21,
   "id": "339c95e9",
   "metadata": {},
   "outputs": [
    {
     "name": "stdout",
     "output_type": "stream",
     "text": [
      "banana\n"
     ]
    }
   ],
   "source": [
    "fut = (\"apple\", \"cherry\", \"banana\",\"naranja\", \"pera\",\"uva\")\n",
    "k=fut[2]\n",
    "print(k)"
   ]
  },
  {
   "cell_type": "code",
   "execution_count": 28,
   "id": "54285e30",
   "metadata": {},
   "outputs": [
    {
     "name": "stdout",
     "output_type": "stream",
     "text": [
      "('apple', 'cherry', 'banana')\n"
     ]
    }
   ],
   "source": [
    "l=fut[:3]\n",
    "print(l)"
   ]
  },
  {
   "cell_type": "code",
   "execution_count": 23,
   "id": "48eec1cd",
   "metadata": {},
   "outputs": [
    {
     "name": "stdout",
     "output_type": "stream",
     "text": [
      "('cherry', 'pera')\n"
     ]
    }
   ],
   "source": [
    "m=fut[1:5:3]\n",
    "print(m)\n"
   ]
  },
  {
   "cell_type": "code",
   "execution_count": 30,
   "id": "63df9342",
   "metadata": {},
   "outputs": [
    {
     "name": "stdout",
     "output_type": "stream",
     "text": [
      "()\n"
     ]
    }
   ],
   "source": [
    "n=fut[-2:-5]\n",
    "print(n)"
   ]
  },
  {
   "cell_type": "markdown",
   "id": "a9f6d492",
   "metadata": {},
   "source": [
    "### Condicionales en Tuplas"
   ]
  },
  {
   "cell_type": "code",
   "execution_count": 24,
   "id": "36dbda10",
   "metadata": {},
   "outputs": [],
   "source": [
    "fru = (\"apple\", \"cherry\", \"banana\")\n",
    "if \"apple\" in fru:\n",
    "    print(\"Si\")   "
   ]
  },
  {
   "cell_type": "code",
   "execution_count": 31,
   "id": "55fc891a",
   "metadata": {},
   "outputs": [
    {
     "name": "stdout",
     "output_type": "stream",
     "text": [
      "apple\n",
      "cherry\n",
      "banana\n"
     ]
    }
   ],
   "source": [
    "fru = (\"apple\", \"cherry\", \"banana\")\n",
    "for x in fru:\n",
    "    print(x)"
   ]
  },
  {
   "cell_type": "code",
   "execution_count": 32,
   "id": "ef6e196d",
   "metadata": {},
   "outputs": [
    {
     "name": "stdout",
     "output_type": "stream",
     "text": [
      "apple\n",
      "cherry\n",
      "banana\n"
     ]
    }
   ],
   "source": [
    "for i in range(len(fru)):\n",
    "     print(fru[i])"
   ]
  },
  {
   "cell_type": "code",
   "execution_count": 94,
   "id": "9f5e164a",
   "metadata": {},
   "outputs": [],
   "source": [
    "fru = (\"apple\", \"banana\", \"cherry\")\n",
    "i = 0\n",
    "while i < len(fru):\n",
    "    print(fru[i])\n",
    "    i = i + 1"
   ]
  },
  {
   "cell_type": "markdown",
   "id": "18a45f2f",
   "metadata": {},
   "source": [
    "### Unpacked"
   ]
  },
  {
   "cell_type": "code",
   "execution_count": 34,
   "id": "7319aa3c",
   "metadata": {},
   "outputs": [
    {
     "name": "stdout",
     "output_type": "stream",
     "text": [
      "apple\n"
     ]
    }
   ],
   "source": [
    "fru = (\"apple\", \"cherry\", \"banana\")\n",
    "(x,y,z)=fru\n",
    "print(x)"
   ]
  },
  {
   "cell_type": "code",
   "execution_count": 36,
   "id": "67e84fdd",
   "metadata": {},
   "outputs": [
    {
     "name": "stdout",
     "output_type": "stream",
     "text": [
      "banana naranja pera\n"
     ]
    }
   ],
   "source": [
    "fruti = (\"apple\", \"cherry\", \"banana\",\"naranja\",\"pera\")\n",
    "(w,t,*p)=fruti\n",
    "print(*p)"
   ]
  },
  {
   "cell_type": "code",
   "execution_count": null,
   "id": "e947286d",
   "metadata": {},
   "outputs": [],
   "source": []
  }
 ],
 "metadata": {
  "kernelspec": {
   "display_name": "Python 3",
   "language": "python",
   "name": "python3"
  },
  "language_info": {
   "codemirror_mode": {
    "name": "ipython",
    "version": 3
   },
   "file_extension": ".py",
   "mimetype": "text/x-python",
   "name": "python",
   "nbconvert_exporter": "python",
   "pygments_lexer": "ipython3",
   "version": "3.7.10"
  }
 },
 "nbformat": 4,
 "nbformat_minor": 5
}
