{
 "cells": [
  {
   "cell_type": "markdown",
   "id": "dc1e8955",
   "metadata": {},
   "source": [
    "# Expresiones Regulares"
   ]
  },
  {
   "cell_type": "code",
   "execution_count": 2,
   "id": "4f6dd852",
   "metadata": {},
   "outputs": [],
   "source": [
    "import re"
   ]
  },
  {
   "cell_type": "code",
   "execution_count": 9,
   "id": "9d63eb3b",
   "metadata": {},
   "outputs": [
    {
     "name": "stdout",
     "output_type": "stream",
     "text": [
      "['es', 'es']\n"
     ]
    }
   ],
   "source": [
    "ora1=\"Que bueno está esto 143\"\n",
    "a=re.findall(\"es\",ora1)\n",
    "print(a)"
   ]
  },
  {
   "cell_type": "code",
   "execution_count": 11,
   "id": "323d7067",
   "metadata": {},
   "outputs": [
    {
     "name": "stdout",
     "output_type": "stream",
     "text": [
      "['e', 'e', 'e', 'e']\n"
     ]
    }
   ],
   "source": [
    "ora1=\"Que bueno está esto 143\"\n",
    "a=re.findall(\"[e]\",ora1)\n",
    "print(a)"
   ]
  },
  {
   "cell_type": "code",
   "execution_count": 12,
   "id": "d8949741",
   "metadata": {},
   "outputs": [
    {
     "name": "stdout",
     "output_type": "stream",
     "text": [
      "['e', 'e', 'e', 't', 'e', 't']\n"
     ]
    }
   ],
   "source": [
    "ora1=\"Que bueno está esto 143\"\n",
    "a=re.findall(\"[et]\",ora1)\n",
    "print(a)"
   ]
  },
  {
   "cell_type": "code",
   "execution_count": 13,
   "id": "c84bec3a",
   "metadata": {},
   "outputs": [
    {
     "name": "stdout",
     "output_type": "stream",
     "text": [
      "['e', 'e', 'n', 'o', 'e', 's', 't', 'e', 's', 't', 'o']\n"
     ]
    }
   ],
   "source": [
    "ora1=\"Que bueno está esto 144\"\n",
    "a=re.findall(\"[e-t]\",ora1)\n",
    "print(a)"
   ]
  },
  {
   "cell_type": "code",
   "execution_count": 14,
   "id": "9e505013",
   "metadata": {},
   "outputs": [
    {
     "name": "stdout",
     "output_type": "stream",
     "text": [
      "['Q', 'u', ' ', 'b', 'u', 'n', 'o', ' ', 'á', ' ', 'o', ' ', '1', '4', '4', '3']\n"
     ]
    }
   ],
   "source": [
    "ora1=\"Que bueno está esto 1443\"\n",
    "a=re.findall(\"[^ets]\",ora1)\n",
    "print(a)"
   ]
  },
  {
   "cell_type": "code",
   "execution_count": 16,
   "id": "6cb79223",
   "metadata": {},
   "outputs": [
    {
     "name": "stdout",
     "output_type": "stream",
     "text": [
      "['Q']\n"
     ]
    }
   ],
   "source": [
    "ora1=\"Que bueno está esto 1443\"\n",
    "a=re.findall(\"\\AQ\",ora1)\n",
    "print(a)"
   ]
  },
  {
   "cell_type": "code",
   "execution_count": 18,
   "id": "36af073f",
   "metadata": {},
   "outputs": [
    {
     "name": "stdout",
     "output_type": "stream",
     "text": [
      "['es', 'es']\n"
     ]
    }
   ],
   "source": [
    "ora1=\"Que bueno está esto 1443\"\n",
    "a=re.findall(r\"\\bes\",ora1)\n",
    "print(a)"
   ]
  },
  {
   "cell_type": "code",
   "execution_count": 20,
   "id": "f65aad1b",
   "metadata": {},
   "outputs": [
    {
     "name": "stdout",
     "output_type": "stream",
     "text": [
      "[]\n"
     ]
    }
   ],
   "source": [
    "ora1=\"Que bueno está esto 1443\"\n",
    "a=re.findall(r\"es\\b\",ora1)\n",
    "print(a)"
   ]
  },
  {
   "cell_type": "code",
   "execution_count": 11,
   "id": "8eef5428",
   "metadata": {},
   "outputs": [
    {
     "name": "stdout",
     "output_type": "stream",
     "text": [
      "[]\n"
     ]
    }
   ],
   "source": [
    "ora1=\"Que bueno está esto 1443\"\n",
    "a=re.findall(r\"\\Bes\",ora1)\n",
    "#print(a)"
   ]
  },
  {
   "cell_type": "code",
   "execution_count": 12,
   "id": "8b35d6c6",
   "metadata": {},
   "outputs": [
    {
     "name": "stdout",
     "output_type": "stream",
     "text": [
      "['ue', 'ue']\n"
     ]
    }
   ],
   "source": [
    "ora1=\"Que bueno está esto 1443\"\n",
    "a=re.findall(r\"\\Bue\",ora1)\n",
    "#print(a)"
   ]
  },
  {
   "cell_type": "code",
   "execution_count": 13,
   "id": "f411bc51",
   "metadata": {},
   "outputs": [
    {
     "name": "stdout",
     "output_type": "stream",
     "text": [
      "['1', '4', '4', '3']\n"
     ]
    }
   ],
   "source": [
    "ora1=\"Que bueno está esto 1443\"\n",
    "a=re.findall(\"\\d\",ora1)\n",
    "print(a)"
   ]
  },
  {
   "cell_type": "code",
   "execution_count": 14,
   "id": "5be43ad1",
   "metadata": {},
   "outputs": [
    {
     "name": "stdout",
     "output_type": "stream",
     "text": [
      "[' ', ' ', ' ', ' ']\n"
     ]
    }
   ],
   "source": [
    "ora1=\"Que bueno está esto 1443\"\n",
    "a=re.findall(\"\\s\",ora1)\n",
    "print(a)"
   ]
  },
  {
   "cell_type": "code",
   "execution_count": 17,
   "id": "5a67fe5c",
   "metadata": {},
   "outputs": [
    {
     "name": "stdout",
     "output_type": "stream",
     "text": [
      "['Q', 'u', 'e', 'b', 'u', 'e', 'n', 'o', 'e', 's', 't', 'á', 'e', 's', 't', 'o', '1', '4', '4', '3']\n"
     ]
    }
   ],
   "source": [
    "ora1=\"Que bueno está esto 1443\"\n",
    "a=re.findall(\"\\w\",ora1)\n",
    "print(a)"
   ]
  },
  {
   "cell_type": "code",
   "execution_count": 45,
   "id": "185da966",
   "metadata": {},
   "outputs": [
    {
     "name": "stdout",
     "output_type": "stream",
     "text": [
      "['t', 'to']\n"
     ]
    }
   ],
   "source": [
    "ora1=\"Que bueno está esto 1443\"\n",
    "a=re.findall(\"to*\",ora1)\n",
    "print(a)"
   ]
  },
  {
   "cell_type": "code",
   "execution_count": 26,
   "id": "b1520415",
   "metadata": {},
   "outputs": [
    {
     "name": "stdout",
     "output_type": "stream",
     "text": [
      "['to']\n"
     ]
    }
   ],
   "source": [
    "ora1=\"Que bueno está esto 1443\"\n",
    "a=re.findall(\"to+\",ora1)\n",
    "print(a)"
   ]
  },
  {
   "cell_type": "code",
   "execution_count": 41,
   "id": "4909b31d",
   "metadata": {},
   "outputs": [
    {
     "name": "stdout",
     "output_type": "stream",
     "text": [
      "['t', 'to']\n"
     ]
    }
   ],
   "source": [
    "ora1=\"Que bueno está esto  1443\"\n",
    "a=re.findall(\"to?\",ora1)\n",
    "print(a)"
   ]
  },
  {
   "cell_type": "code",
   "execution_count": 28,
   "id": "961c6121",
   "metadata": {},
   "outputs": [
    {
     "name": "stdout",
     "output_type": "stream",
     "text": [
      "['to']\n"
     ]
    }
   ],
   "source": [
    "ora1=\"Que bueno está esto 1443\"\n",
    "a=re.findall(\"to{1}\",ora1)\n",
    "print(a)"
   ]
  },
  {
   "cell_type": "code",
   "execution_count": 43,
   "id": "1b32618c",
   "metadata": {},
   "outputs": [
    {
     "name": "stdout",
     "output_type": "stream",
     "text": [
      "['to']\n"
     ]
    }
   ],
   "source": [
    "ora1=\"Que bueno está esto 1443\"\n",
    "a=re.findall(\"to|ta\",ora1)\n",
    "print(a)"
   ]
  },
  {
   "cell_type": "code",
   "execution_count": 42,
   "id": "6ecef4f5",
   "metadata": {},
   "outputs": [
    {
     "name": "stdout",
     "output_type": "stream",
     "text": [
      "['tá', 'to']\n"
     ]
    }
   ],
   "source": [
    "ora1=\"Que bueno está esto 1443\"\n",
    "a=re.findall(\"to|t[á]\",ora1)\n",
    "print(a)"
   ]
  },
  {
   "cell_type": "code",
   "execution_count": 56,
   "id": "c760d78b",
   "metadata": {},
   "outputs": [
    {
     "name": "stdout",
     "output_type": "stream",
     "text": [
      "<re.Match object; span=(12, 14), match='tá'>\n"
     ]
    }
   ],
   "source": [
    "ora1=\"Que bueno está esto 1443\"\n",
    "a=re.search(\"to|t[á]\",ora1)\n",
    "print(a)"
   ]
  },
  {
   "cell_type": "code",
   "execution_count": 46,
   "id": "957482ff",
   "metadata": {},
   "outputs": [
    {
     "name": "stdout",
     "output_type": "stream",
     "text": [
      "['Que bueno está esto 1443', '']\n"
     ]
    }
   ],
   "source": [
    "ora1=\"Que bueno está esto 1443\"\n",
    "a=re.findall(\".*\",ora1)\n",
    "print(a)"
   ]
  },
  {
   "cell_type": "code",
   "execution_count": 48,
   "id": "65f5e8be",
   "metadata": {},
   "outputs": [
    {
     "name": "stdout",
     "output_type": "stream",
     "text": [
      "None\n"
     ]
    }
   ],
   "source": [
    "ora1=\"Que bueno está esto 1443\"\n",
    "a=re.match(\"es\",ora1)\n",
    "print(a)"
   ]
  },
  {
   "cell_type": "code",
   "execution_count": 49,
   "id": "24f997c7",
   "metadata": {},
   "outputs": [
    {
     "name": "stdout",
     "output_type": "stream",
     "text": [
      "<re.Match object; span=(10, 12), match='es'>\n"
     ]
    }
   ],
   "source": [
    "ora1=\"Que bueno está esto 1443\"\n",
    "a=re.search(\"es\",ora1)\n",
    "print(a)"
   ]
  },
  {
   "cell_type": "code",
   "execution_count": 62,
   "id": "c1210d8e",
   "metadata": {},
   "outputs": [
    {
     "name": "stdout",
     "output_type": "stream",
     "text": [
      "<re.Match object; span=(2, 11), match='e bueno e'>\n"
     ]
    }
   ],
   "source": [
    "ora1=\"Que bueno está esto 1443\"\n",
    "a=re.search(\"\\w bueno \\w\",ora1)\n",
    "print(a)"
   ]
  },
  {
   "cell_type": "code",
   "execution_count": 63,
   "id": "c3415d3f",
   "metadata": {},
   "outputs": [
    {
     "name": "stdout",
     "output_type": "stream",
     "text": [
      "<re.Match object; span=(0, 11), match='Que bueno e'>\n"
     ]
    }
   ],
   "source": [
    "ora1=\"Que bueno está esto 1443\"\n",
    "a=re.search(\"\\w* bueno \\w\",ora1)\n",
    "print(a)"
   ]
  },
  {
   "cell_type": "code",
   "execution_count": 67,
   "id": "2ed22bbc",
   "metadata": {},
   "outputs": [
    {
     "name": "stdout",
     "output_type": "stream",
     "text": [
      "<re.Match object; span=(0, 14), match='Que bueno está'>\n"
     ]
    }
   ],
   "source": [
    "ora1=\"Que bueno está esto 1443\"\n",
    "a=re.search(\"(\\w+) (\\w+) (\\w+)\",ora1)\n",
    "print(a)"
   ]
  },
  {
   "cell_type": "code",
   "execution_count": 68,
   "id": "365377d4",
   "metadata": {},
   "outputs": [
    {
     "name": "stdout",
     "output_type": "stream",
     "text": [
      "Que bueno está\n"
     ]
    }
   ],
   "source": [
    "ora1=\"Que bueno está esto 1443\"\n",
    "a=re.search(\"(\\w+) (\\w+) (\\w+)\",ora1)\n",
    "print(a.group())"
   ]
  },
  {
   "cell_type": "code",
   "execution_count": 69,
   "id": "1607491f",
   "metadata": {},
   "outputs": [
    {
     "name": "stdout",
     "output_type": "stream",
     "text": [
      "Que\n"
     ]
    }
   ],
   "source": [
    "ora1=\"Que bueno está esto 1443\"\n",
    "a=re.search(\"(\\w+) (\\w+) (\\w+)\",ora1)\n",
    "print(a.group(1))"
   ]
  },
  {
   "cell_type": "code",
   "execution_count": 70,
   "id": "f42c4c4c",
   "metadata": {},
   "outputs": [
    {
     "name": "stdout",
     "output_type": "stream",
     "text": [
      "bueno\n"
     ]
    }
   ],
   "source": [
    "ora1=\"Que bueno está esto 1443\"\n",
    "a=re.search(\"(\\w+) (\\w+) (\\w+)\",ora1)\n",
    "print(a.group(2))"
   ]
  },
  {
   "cell_type": "code",
   "execution_count": 73,
   "id": "e9d475ef",
   "metadata": {},
   "outputs": [
    {
     "name": "stdout",
     "output_type": "stream",
     "text": [
      "Que bueno está esto 1443\n"
     ]
    }
   ],
   "source": [
    "ora1=\"Que bueno está esto 1443\"\n",
    "a=re.search(\"(\\w+) (\\w+) (\\w+)\",ora1)\n",
    "print(a.string)"
   ]
  },
  {
   "cell_type": "code",
   "execution_count": 75,
   "id": "f9a08175",
   "metadata": {},
   "outputs": [
    {
     "name": "stdout",
     "output_type": "stream",
     "text": [
      "14\n"
     ]
    }
   ],
   "source": [
    "ora1=\"Que bueno está esto 1443\"\n",
    "a=re.search(\"(\\w+) (\\w+) (\\w+)\",ora1)\n",
    "print(a.end())"
   ]
  },
  {
   "cell_type": "code",
   "execution_count": 79,
   "id": "d8a16f6e",
   "metadata": {},
   "outputs": [
    {
     "name": "stdout",
     "output_type": "stream",
     "text": [
      "['Que', 'bueno', 'está esto 1443']\n"
     ]
    }
   ],
   "source": [
    "ora1=\"Que bueno está esto 1443\"\n",
    "a=re.split(\"\\s\",ora1,2)\n",
    "print(a)"
   ]
  },
  {
   "cell_type": "code",
   "execution_count": 80,
   "id": "a3132613",
   "metadata": {},
   "outputs": [
    {
     "name": "stdout",
     "output_type": "stream",
     "text": [
      "Queybuenoyestáyestoy1443\n"
     ]
    }
   ],
   "source": [
    "ora1=\"Que bueno está esto 1443\"\n",
    "a=re.sub(\"\\s\",\"y\",ora1)\n",
    "print(a)"
   ]
  },
  {
   "cell_type": "code",
   "execution_count": 87,
   "id": "6c3d9c23",
   "metadata": {},
   "outputs": [
    {
     "name": "stdout",
     "output_type": "stream",
     "text": [
      "<re.Match object; span=(0, 14), match='Que bueno está'>\n"
     ]
    }
   ],
   "source": [
    "ora1=\"Que bueno está esto 1443\"\n",
    "a=re.search(\"(\\w+) (\\w+) (\\w+)\",ora1)\n",
    "print(a)"
   ]
  },
  {
   "cell_type": "code",
   "execution_count": null,
   "id": "a4fd0ce6",
   "metadata": {},
   "outputs": [],
   "source": []
  }
 ],
 "metadata": {
  "kernelspec": {
   "display_name": "Python 3",
   "language": "python",
   "name": "python3"
  },
  "language_info": {
   "codemirror_mode": {
    "name": "ipython",
    "version": 3
   },
   "file_extension": ".py",
   "mimetype": "text/x-python",
   "name": "python",
   "nbconvert_exporter": "python",
   "pygments_lexer": "ipython3",
   "version": "3.7.10"
  }
 },
 "nbformat": 4,
 "nbformat_minor": 5
}
