{
 "cells": [
  {
   "cell_type": "markdown",
   "id": "f8cf7cfc",
   "metadata": {},
   "source": [
    "# Strings"
   ]
  },
  {
   "cell_type": "markdown",
   "id": "f60a6581",
   "metadata": {},
   "source": [
    "### Con format()"
   ]
  },
  {
   "cell_type": "code",
   "execution_count": 13,
   "id": "2a98a530",
   "metadata": {},
   "outputs": [
    {
     "name": "stdout",
     "output_type": "stream",
     "text": [
      "Esto es una prueba de cadenas para el año 2021\n"
     ]
    }
   ],
   "source": [
    "print(\"Esto es una prueba de {} para el año {}\".format(\"cadenas\",2021))"
   ]
  },
  {
   "cell_type": "markdown",
   "id": "40d27e29",
   "metadata": {},
   "source": [
    "### Con f-Strings"
   ]
  },
  {
   "cell_type": "code",
   "execution_count": 15,
   "id": "2551bec2",
   "metadata": {},
   "outputs": [
    {
     "name": "stdout",
     "output_type": "stream",
     "text": [
      "Esto es una prueba de 2021 para el año 2021\n"
     ]
    }
   ],
   "source": [
    "name=\"cadenas\"\n",
    "anio=2021\n",
    "print(f\"Esto es una prueba de {anio} para el año {anio}\")\n"
   ]
  },
  {
   "cell_type": "markdown",
   "id": "d84951f3",
   "metadata": {},
   "source": [
    "### Con %"
   ]
  },
  {
   "cell_type": "code",
   "execution_count": 11,
   "id": "c5353857",
   "metadata": {},
   "outputs": [],
   "source": [
    "print(\"Esto es una prueba de %s para el año %d\"%(\"cadenas\",2021))"
   ]
  },
  {
   "cell_type": "code",
   "execution_count": 12,
   "id": "1028cb93",
   "metadata": {},
   "outputs": [],
   "source": [
    "print(\"Hola \\tPeso\\\"\")"
   ]
  },
  {
   "cell_type": "code",
   "execution_count": 17,
   "id": "2426bb80",
   "metadata": {},
   "outputs": [
    {
     "name": "stdout",
     "output_type": "stream",
     "text": [
      "m\n"
     ]
    }
   ],
   "source": [
    "nom=\"nombre\"\n",
    "print(nom[2])\n"
   ]
  },
  {
   "cell_type": "code",
   "execution_count": null,
   "id": "56a3d5c6",
   "metadata": {},
   "outputs": [],
   "source": []
  }
 ],
 "metadata": {
  "kernelspec": {
   "display_name": "Python 3",
   "language": "python",
   "name": "python3"
  },
  "language_info": {
   "codemirror_mode": {
    "name": "ipython",
    "version": 3
   },
   "file_extension": ".py",
   "mimetype": "text/x-python",
   "name": "python",
   "nbconvert_exporter": "python",
   "pygments_lexer": "ipython3",
   "version": "3.7.10"
  }
 },
 "nbformat": 4,
 "nbformat_minor": 5
}
