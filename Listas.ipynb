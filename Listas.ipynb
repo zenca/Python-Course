{
 "cells": [
  {
   "cell_type": "markdown",
   "id": "fe97dfff",
   "metadata": {},
   "source": [
    "# Listas\n",
    "### Operadores"
   ]
  },
  {
   "cell_type": "code",
   "execution_count": 5,
   "id": "1b9044c8",
   "metadata": {},
   "outputs": [],
   "source": [
    "fruits = [\"apple\", 3, \"cherry\"]\n",
    "frui = [\"apple\", \"banana\", \"cherry\"]\n",
    "a=fruits+frui"
   ]
  },
  {
   "cell_type": "code",
   "execution_count": 7,
   "id": "f2ce2388",
   "metadata": {},
   "outputs": [],
   "source": [
    "frui = [\"apple\", \"banana\", \"cherry\"]\n",
    "b=fruits*3"
   ]
  },
  {
   "cell_type": "code",
   "execution_count": 9,
   "id": "ee8415b6",
   "metadata": {},
   "outputs": [],
   "source": [
    "c=\"apple\" in frui"
   ]
  },
  {
   "cell_type": "code",
   "execution_count": null,
   "id": "e15f90ac",
   "metadata": {},
   "outputs": [],
   "source": [
    "d=\"apple\" not in frui"
   ]
  },
  {
   "cell_type": "markdown",
   "id": "71d802dc",
   "metadata": {},
   "source": [
    "### Funciones de Python en list"
   ]
  },
  {
   "cell_type": "code",
   "execution_count": 11,
   "id": "defd2e5e",
   "metadata": {},
   "outputs": [],
   "source": [
    "frui = [\"apple\", \"banana\", \"cherry\"]\n",
    "e=max(frui)"
   ]
  },
  {
   "cell_type": "code",
   "execution_count": 13,
   "id": "779aaae1",
   "metadata": {},
   "outputs": [],
   "source": [
    "f=len(frui)"
   ]
  },
  {
   "cell_type": "markdown",
   "id": "a476896c",
   "metadata": {},
   "source": [
    "### Keyword en list"
   ]
  },
  {
   "cell_type": "code",
   "execution_count": 56,
   "id": "9547ff36",
   "metadata": {},
   "outputs": [],
   "source": [
    "frui = [\"apple\", \"banana\", \"cherry\"]\n",
    "del frui"
   ]
  },
  {
   "cell_type": "markdown",
   "id": "a3436714",
   "metadata": {},
   "source": [
    "### Métodos de List"
   ]
  },
  {
   "cell_type": "code",
   "execution_count": 22,
   "id": "dba8ff7a",
   "metadata": {},
   "outputs": [],
   "source": [
    "frui = [\"apple\", \"banana\", \"cherry\"]\n",
    "frui.append(\"naranja\")"
   ]
  },
  {
   "cell_type": "code",
   "execution_count": 69,
   "id": "14fafe9d",
   "metadata": {},
   "outputs": [],
   "source": [
    "frui = [\"apple\", \"banana\", \"cherry\"]\n",
    "fruits = [\"apple\", 3, \"cherry\"]\n",
    "frui.extend(fruits)"
   ]
  },
  {
   "cell_type": "code",
   "execution_count": 38,
   "id": "af894ac0",
   "metadata": {},
   "outputs": [],
   "source": [
    "frui = [\"apple\", \"banana\", \"cherry\"]\n",
    "frui.insert(2,\"pera\")"
   ]
  },
  {
   "cell_type": "code",
   "execution_count": 46,
   "id": "efb0fc89",
   "metadata": {},
   "outputs": [],
   "source": [
    "frui = [\"apple\", \"banana\", \"cherry\"]\n",
    "frui.remove(\"banana\")"
   ]
  },
  {
   "cell_type": "code",
   "execution_count": 48,
   "id": "8a16763f",
   "metadata": {},
   "outputs": [],
   "source": [
    "frui = [\"apple\", \"banana\", \"cherry\"]\n",
    "frui.pop(2)"
   ]
  },
  {
   "cell_type": "code",
   "execution_count": 50,
   "id": "b85c1b11",
   "metadata": {},
   "outputs": [],
   "source": [
    "frui = [\"apple\", \"banana\", \"cherry\"]\n",
    "frui.clear()"
   ]
  },
  {
   "cell_type": "code",
   "execution_count": 53,
   "id": "9e85e45c",
   "metadata": {},
   "outputs": [],
   "source": [
    "frui = [\"apple\", \"banana\", \"cherry\"]\n",
    "frui.count(\"apple\")"
   ]
  },
  {
   "cell_type": "code",
   "execution_count": 59,
   "id": "45c92e26",
   "metadata": {},
   "outputs": [],
   "source": [
    "fru = [\"apple\", \"cherry\", \"banana\"]\n",
    "fru.sort()"
   ]
  },
  {
   "cell_type": "code",
   "execution_count": 63,
   "id": "3f939595",
   "metadata": {},
   "outputs": [],
   "source": [
    "fru = [\"apple\", \"cherry\", \"banana\"]\n",
    "j=fru.index(\"banana\")"
   ]
  },
  {
   "cell_type": "code",
   "execution_count": 65,
   "id": "374f9d80",
   "metadata": {},
   "outputs": [],
   "source": [
    "fru = [\"apple\", \"cherry\", \"banana\"]\n",
    "fru.reverse()"
   ]
  },
  {
   "cell_type": "code",
   "execution_count": 68,
   "id": "0838cb37",
   "metadata": {},
   "outputs": [],
   "source": [
    "fru = [\"apple\", \"cherry\", \"banana\"]\n",
    "j=fru.copy()"
   ]
  },
  {
   "cell_type": "markdown",
   "id": "c8cab2d0",
   "metadata": {},
   "source": [
    "### Indexación, Slicing"
   ]
  },
  {
   "cell_type": "code",
   "execution_count": 4,
   "id": "339c95e9",
   "metadata": {},
   "outputs": [
    {
     "name": "stdout",
     "output_type": "stream",
     "text": [
      "banana\n"
     ]
    }
   ],
   "source": [
    "fut = [\"apple\", \"cherry\", \"banana\",\"naranja\", \"pera\",\"uva\"]\n",
    "k=fut[2]\n",
    "print(k)"
   ]
  },
  {
   "cell_type": "code",
   "execution_count": 75,
   "id": "54285e30",
   "metadata": {},
   "outputs": [],
   "source": [
    "l=fut[2:5]"
   ]
  },
  {
   "cell_type": "code",
   "execution_count": 80,
   "id": "48eec1cd",
   "metadata": {},
   "outputs": [],
   "source": [
    "m=fut[1:5:3]"
   ]
  },
  {
   "cell_type": "code",
   "execution_count": 84,
   "id": "63df9342",
   "metadata": {},
   "outputs": [],
   "source": [
    "n=fut[-5:-2]"
   ]
  },
  {
   "cell_type": "markdown",
   "id": "a9f6d492",
   "metadata": {},
   "source": [
    "### Condicionales en List"
   ]
  },
  {
   "cell_type": "code",
   "execution_count": 87,
   "id": "36dbda10",
   "metadata": {},
   "outputs": [],
   "source": [
    "fru = [\"apple\", \"cherry\", \"banana\"]\n",
    "if \"apple\" in fru:\n",
    "    print(\"Si\")   "
   ]
  },
  {
   "cell_type": "code",
   "execution_count": 89,
   "id": "55fc891a",
   "metadata": {},
   "outputs": [],
   "source": [
    "fru = [\"apple\", \"cherry\", \"banana\"]\n",
    "for x in fru:\n",
    "    print(x)"
   ]
  },
  {
   "cell_type": "code",
   "execution_count": 92,
   "id": "ef6e196d",
   "metadata": {},
   "outputs": [],
   "source": [
    "for i in range(len(fru)):\n",
    "    print(fru[i])"
   ]
  },
  {
   "cell_type": "code",
   "execution_count": 94,
   "id": "9f5e164a",
   "metadata": {},
   "outputs": [],
   "source": [
    "fru = [\"apple\", \"banana\", \"cherry\"]\n",
    "i = 0\n",
    "while i < len(fru):\n",
    "    print(fru[i])\n",
    "    i = i + 1"
   ]
  },
  {
   "cell_type": "markdown",
   "id": "d2777079",
   "metadata": {},
   "source": [
    "### Otras"
   ]
  },
  {
   "cell_type": "code",
   "execution_count": 6,
   "id": "4b78c8ea",
   "metadata": {},
   "outputs": [
    {
     "name": "stdout",
     "output_type": "stream",
     "text": [
      "Frutas rojas: apple y cherry \n",
      "Frutas amarillas: banana\n"
     ]
    }
   ],
   "source": [
    "fru = [\"apple\", \"banana\", \"cherry\"]\n",
    "print(\"Frutas rojas: %s y %s \\nFrutas amarillas: %s\"%(fru[0],fru[2],fru[1]))"
   ]
  },
  {
   "cell_type": "code",
   "execution_count": null,
   "id": "4e8ff2aa",
   "metadata": {},
   "outputs": [],
   "source": []
  }
 ],
 "metadata": {
  "kernelspec": {
   "display_name": "Python 3",
   "language": "python",
   "name": "python3"
  },
  "language_info": {
   "codemirror_mode": {
    "name": "ipython",
    "version": 3
   },
   "file_extension": ".py",
   "mimetype": "text/x-python",
   "name": "python",
   "nbconvert_exporter": "python",
   "pygments_lexer": "ipython3",
   "version": "3.7.10"
  }
 },
 "nbformat": 4,
 "nbformat_minor": 5
}
