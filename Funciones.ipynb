{
 "cells": [
  {
   "cell_type": "markdown",
   "id": "9f13367d",
   "metadata": {},
   "source": [
    "## Funciones"
   ]
  },
  {
   "cell_type": "code",
   "execution_count": 1,
   "id": "d987ccc3",
   "metadata": {},
   "outputs": [
    {
     "name": "stdout",
     "output_type": "stream",
     "text": [
      "hola\n"
     ]
    }
   ],
   "source": [
    "def func1():\n",
    "    print(\"hola\")\n",
    "func1()    "
   ]
  },
  {
   "cell_type": "code",
   "execution_count": 17,
   "id": "46880e14",
   "metadata": {},
   "outputs": [
    {
     "name": "stdout",
     "output_type": "stream",
     "text": [
      "hola b\n"
     ]
    }
   ],
   "source": [
    "def fun2(a,b):\n",
    "    print(a+b)\n",
    "fun2(\"hola\", \" b\")    "
   ]
  },
  {
   "cell_type": "code",
   "execution_count": 14,
   "id": "0b147a6b",
   "metadata": {},
   "outputs": [
    {
     "name": "stdout",
     "output_type": "stream",
     "text": [
      "Hola  (3, 2)\n"
     ]
    }
   ],
   "source": [
    "def fun3(*arg):\n",
    "    print(\"Hola \",arg[0:2])\n",
    "fun3(3,2,5)    "
   ]
  },
  {
   "cell_type": "code",
   "execution_count": 19,
   "id": "242db535",
   "metadata": {},
   "outputs": [
    {
     "name": "stdout",
     "output_type": "stream",
     "text": [
      "16\n"
     ]
    }
   ],
   "source": [
    "def fun4(a,b,c):\n",
    "    print(b*c+a)\n",
    "fun4(b=2,a=6,c=5)"
   ]
  },
  {
   "cell_type": "code",
   "execution_count": 20,
   "id": "e4250b90",
   "metadata": {},
   "outputs": [
    {
     "name": "stdout",
     "output_type": "stream",
     "text": [
      "Hola Gonz\n"
     ]
    }
   ],
   "source": [
    "def fun5(**kargs):\n",
    "    print(\"Hola \"+kargs[\"apellido\"])\n",
    "fun5(apellido=\"Gonz\")    "
   ]
  },
  {
   "cell_type": "code",
   "execution_count": 22,
   "id": "cbf77780",
   "metadata": {},
   "outputs": [
    {
     "name": "stdout",
     "output_type": "stream",
     "text": [
      "Que día es  ayer\n"
     ]
    }
   ],
   "source": [
    "def fun6(par1=\"Hoy\"):\n",
    "    print(\"Que día es  \"+par1)\n",
    "fun6(\"ayer\")    "
   ]
  },
  {
   "cell_type": "code",
   "execution_count": 23,
   "id": "f3e4babf",
   "metadata": {},
   "outputs": [
    {
     "name": "stdout",
     "output_type": "stream",
     "text": [
      "(3, 'ab', 5)\n"
     ]
    }
   ],
   "source": [
    "def fun7(par2):\n",
    "    print(par2)\n",
    "k=(3,\"ab\",5)    \n",
    "fun7(k)    "
   ]
  },
  {
   "cell_type": "markdown",
   "id": "2196d001",
   "metadata": {},
   "source": [
    "### Return"
   ]
  },
  {
   "cell_type": "code",
   "execution_count": 27,
   "id": "0a06ebb7",
   "metadata": {},
   "outputs": [
    {
     "name": "stdout",
     "output_type": "stream",
     "text": [
      "7\n"
     ]
    }
   ],
   "source": [
    "def fun8(a):\n",
    "    c=a+2\n",
    "    return c\n",
    "print(fun8(5))"
   ]
  },
  {
   "cell_type": "code",
   "execution_count": 29,
   "id": "d9bb906c",
   "metadata": {},
   "outputs": [],
   "source": [
    "def fun12():\n",
    "    pass\n",
    "fun12()     "
   ]
  },
  {
   "cell_type": "markdown",
   "id": "dac1f436",
   "metadata": {},
   "source": [
    "### Funciones  Superiores , Lambda"
   ]
  },
  {
   "cell_type": "code",
   "execution_count": 30,
   "id": "2a911c8a",
   "metadata": {},
   "outputs": [
    {
     "name": "stdout",
     "output_type": "stream",
     "text": [
      "hola\n"
     ]
    }
   ],
   "source": [
    "def fun11(fun):\n",
    "    return fun()\n",
    "def fun13():\n",
    "    print(\"hola\")\n",
    "fun11(fun13)    "
   ]
  },
  {
   "cell_type": "code",
   "execution_count": 32,
   "id": "08c8d6e9",
   "metadata": {},
   "outputs": [
    {
     "name": "stdout",
     "output_type": "stream",
     "text": [
      "11\n"
     ]
    }
   ],
   "source": [
    "fun14=lambda x: x+3\n",
    "print(fun14(8))"
   ]
  },
  {
   "cell_type": "code",
   "execution_count": 33,
   "id": "423327f4",
   "metadata": {},
   "outputs": [
    {
     "name": "stdout",
     "output_type": "stream",
     "text": [
      "3\n"
     ]
    }
   ],
   "source": [
    "fun15=lambda a,c:a+c\n",
    "print(fun15(1,2))"
   ]
  },
  {
   "cell_type": "code",
   "execution_count": 34,
   "id": "728dfef5",
   "metadata": {},
   "outputs": [
    {
     "name": "stdout",
     "output_type": "stream",
     "text": [
      "21\n"
     ]
    }
   ],
   "source": [
    "def fun16(z):\n",
    "    return lambda q:q*z\n",
    "fun17=fun16(3)\n",
    "print(fun17(7))"
   ]
  },
  {
   "cell_type": "code",
   "execution_count": null,
   "id": "a2c23142",
   "metadata": {},
   "outputs": [],
   "source": []
  },
  {
   "cell_type": "code",
   "execution_count": null,
   "id": "beef4bac",
   "metadata": {},
   "outputs": [],
   "source": []
  }
 ],
 "metadata": {
  "kernelspec": {
   "display_name": "Python 3",
   "language": "python",
   "name": "python3"
  },
  "language_info": {
   "codemirror_mode": {
    "name": "ipython",
    "version": 3
   },
   "file_extension": ".py",
   "mimetype": "text/x-python",
   "name": "python",
   "nbconvert_exporter": "python",
   "pygments_lexer": "ipython3",
   "version": "3.7.10"
  }
 },
 "nbformat": 4,
 "nbformat_minor": 5
}
